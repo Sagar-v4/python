{
 "cells": [
  {
   "cell_type": "code",
   "execution_count": 7,
   "id": "2381d2c3",
   "metadata": {},
   "outputs": [],
   "source": [
    "import numpy as np\n",
    "import matplotlib.pyplot as plt\n",
    "%matplotlib inline"
   ]
  },
  {
   "cell_type": "code",
   "execution_count": 9,
   "id": "b0a8a1ba",
   "metadata": {},
   "outputs": [
    {
     "data": {
      "text/plain": [
       "(array([29.,  0.,  0.,  0.,  0.,  0.,  0.,  0.,  0.,  3.]),\n",
       " array([ 10. ,  19.8,  29.6,  39.4,  49.2,  59. ,  68.8,  78.6,  88.4,\n",
       "         98.2, 108. ]),\n",
       " <BarContainer object of 10 artists>)"
      ]
     },
     "execution_count": 9,
     "metadata": {},
     "output_type": "execute_result"
    },
    {
     "data": {
      "image/png": "[encoded data removed]",
      "text/plain": [
       "<Figure size 640x480 with 1 Axes>"
      ]
     },
     "metadata": {},
     "output_type": "display_data"
    }
   ],
   "source": [
    "dataset = [11,10,12,14,12,15,14,13,15,104,12,14,17,19,107,10,13,12,14,12,108,12,11,14,13,15,12,10,14,13,15,10]\n",
    "plt.hist(dataset)"
   ]
  },
  {
   "cell_type": "code",
   "execution_count": 25,
   "id": "2fa9c6cf",
   "metadata": {},
   "outputs": [
    {
     "data": {
      "text/plain": [
       "<Axes: >"
      ]
     },
     "execution_count": 25,
     "metadata": {},
     "output_type": "execute_result"
    },
    {
     "data": {
      "image/png": "[encoded data removed]",
      "text/plain": [
       "<Figure size 640x480 with 1 Axes>"
      ]
     },
     "metadata": {},
     "output_type": "display_data"
    }
   ],
   "source": [
    "import seaborn as sns\n",
    "sns.boxplot(dataset)"
   ]
  },
  {
   "cell_type": "markdown",
   "id": "f82e86c8",
   "metadata": {},
   "source": [
    "# Z Score\n",
    "\n",
    "1. Find mean\n",
    "2. Find standard deviation\n",
    "3. Apply z score formula on each data point (xi - mean) / std\n",
    "4. if the z score for particular data point is greatergreater than the threshold (3rd std dev 99.7%) is outliers"
   ]
  },
  {
   "cell_type": "code",
   "execution_count": 16,
   "id": "5a890163",
   "metadata": {},
   "outputs": [],
   "source": [
    "# Z Score \n",
    "\n",
    "def detect_outliers_z_score_way(data):\n",
    "    \n",
    "    outliers = []\n",
    "    threshold = 3 # 3rd standard deviation (99.7%)\n",
    "    mean = np.mean(data)\n",
    "    std_dev = np.std(data)\n",
    "    \n",
    "    for xi in data:\n",
    "        z_score = (xi - mean) / std_dev\n",
    "        if np.abs(z_score) > threshold:\n",
    "            outliers.append(xi)\n",
    "            \n",
    "    return outliers"
   ]
  },
  {
   "cell_type": "code",
   "execution_count": 17,
   "id": "66ccde78",
   "metadata": {},
   "outputs": [
    {
     "data": {
      "text/plain": [
       "[104, 107, 108]"
      ]
     },
     "execution_count": 17,
     "metadata": {},
     "output_type": "execute_result"
    }
   ],
   "source": [
    "detect_outliers_z_score_way(dataset)"
   ]
  },
  {
   "cell_type": "markdown",
   "id": "337e35ce",
   "metadata": {},
   "source": [
    "# IQR (Inter Quqrtile Range)\n",
    "\n",
    "1. Sort data\n",
    "2. Calculate Q1 & Q3\n",
    "3. find IQR = (Q3 - Q1)\n",
    "4. Find lower fence = (Q1 - 1.5(IQR))\n",
    "5. Find upper fence = (Q3 + 1.5(IQR))\n",
    "6. if x is not in between (lower to upper) then its outlier"
   ]
  },
  {
   "cell_type": "code",
   "execution_count": 19,
   "id": "5db6daa8",
   "metadata": {},
   "outputs": [],
   "source": [
    "# IQR\n",
    "\n",
    "def detect_outliers_iqr_way(data):\n",
    "    \n",
    "    outliers = []\n",
    "    data = sorted(data)\n",
    "    q1, q3 = np.percentile(data, [25, 75])\n",
    "    iqr = q3 - q1\n",
    "    lower = q1 - (1.5 * iqr)\n",
    "    upper = q3 + (1.5 * iqr)\n",
    "    \n",
    "    for xi in data:\n",
    "        if xi < lower or upper < xi:\n",
    "            outliers.append(xi)\n",
    "            \n",
    "    return outliers    "
   ]
  },
  {
   "cell_type": "code",
   "execution_count": 20,
   "id": "ac740425",
   "metadata": {},
   "outputs": [
    {
     "data": {
      "text/plain": [
       "[104, 107, 108]"
      ]
     },
     "execution_count": 20,
     "metadata": {},
     "output_type": "execute_result"
    }
   ],
   "source": [
    "detect_outliers_iqr_way(dataset)"
   ]
  },
  {
   "cell_type": "code",
   "execution_count": null,
   "id": "bd262ac8",
   "metadata": {},
   "outputs": [],
   "source": []
  }
 ],
 "metadata": {
  "kernelspec": {
   "display_name": "Python 3 (ipykernel)",
   "language": "python",
   "name": "python3"
  },
  "language_info": {
   "codemirror_mode": {
    "name": "ipython",
    "version": 3
   },
   "file_extension": ".py",
   "mimetype": "text/x-python",
   "name": "python",
   "nbconvert_exporter": "python",
   "pygments_lexer": "ipython3",
   "version": "3.11.3"
  }
 },
 "nbformat": 4,
 "nbformat_minor": 5
}
