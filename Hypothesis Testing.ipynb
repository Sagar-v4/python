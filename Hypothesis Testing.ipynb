{
 "cells": [
  {
   "cell_type": "markdown",
   "id": "b723febb",
   "metadata": {},
   "source": [
    "# Question (Z test)\n",
    "\n",
    "Suppose the IQ in certain population is normally distributed with a mean of μ = 100 and standard deviation of σ = 15.\n",
    "\n",
    "A researcher wants to know if a new drug affects the IQ levels, so he recruits 20 patients to \n",
    "try it and record their IQ levels.\n",
    "\n",
    "The following code shows how to perform a \"One sample Z-Test\" in python to determine if the new drug causes a significan difference in IQ levels:"
   ]
  },
  {
   "cell_type": "code",
   "execution_count": 22,
   "id": "0b986ab0",
   "metadata": {},
   "outputs": [
    {
     "name": "stdout",
     "output_type": "stream",
     "text": [
      "Z Score = 1.5976240527147705\n",
      "P Value = 0.1101266701438426\n",
      "Accept null hypothesis\n"
     ]
    }
   ],
   "source": [
    "# Z Test\n",
    "\n",
    "from statsmodels.stats.weightstats import ztest as ztest\n",
    "\n",
    "# IQ level of 20 people\n",
    "data = [88, 92, 94, 94, 96, 97, 97, 97, 99, 99, 105,\n",
    "        109, 109, 109, 110, 112, 112, 113, 114, 115]\n",
    "alpha = 0.05  # α\n",
    "\n",
    "(z_score, p_value) = ztest(data, value = 100)\n",
    "\n",
    "print(f\"Z Score = {z_score}\")\n",
    "print(f\"P Value = {p_value}\")\n",
    "\n",
    "if p_value > alpha:\n",
    "    print(\"Accept null hypothesis\")\n",
    "else:\n",
    "    print(\"Reject null hypothesis\")"
   ]
  },
  {
   "cell_type": "markdown",
   "id": "8f8d1019",
   "metadata": {},
   "source": [
    "# T test\n"
   ]
  },
  {
   "cell_type": "code",
   "execution_count": 21,
   "id": "f009fdc3",
   "metadata": {},
   "outputs": [
    {
     "name": "stdout",
     "output_type": "stream",
     "text": [
      "Ages mean = 30.34375\n",
      "Ages sample = [40 35 70 70 32 21 18 21 35 27]\n"
     ]
    },
    {
     "data": {
      "text/plain": [
       "TtestResult(statistic=1.1584510486404735, pvalue=0.27649470415858823, df=9)"
      ]
     },
     "execution_count": 21,
     "metadata": {},
     "output_type": "execute_result"
    }
   ],
   "source": [
    "# T Test\n",
    "\n",
    "import numpy as np\n",
    "from scipy.stats import ttest_1samp\n",
    "\n",
    "\n",
    "ages = [10, 20, 35, 50, 28, 40, 55, 18, 16, 55, 30, 25, 43, 18, 30, 28,\n",
    "        14, 24, 16, 17, 32, 35, 26, 27, 65, 18, 43, 23, 21, 20, 19, 70]\n",
    "\n",
    "ages_mean = np.mean(ages)\n",
    "print(f\"Ages mean = {ages_mean}\")\n",
    "\n",
    "sample_size = 10\n",
    "ages_sample = np.random.choice(ages, sample_size)\n",
    "print(f\"Ages sample = {ages_sample}\")\n",
    "\n",
    "ttest_1samp(ages_sample, 30)"
   ]
  }
 ],
 "metadata": {
  "kernelspec": {
   "display_name": "Python 3 (ipykernel)",
   "language": "python",
   "name": "python3"
  },
  "language_info": {
   "codemirror_mode": {
    "name": "ipython",
    "version": 3
   },
   "file_extension": ".py",
   "mimetype": "text/x-python",
   "name": "python",
   "nbconvert_exporter": "python",
   "pygments_lexer": "ipython3",
   "version": "3.11.4"
  }
 },
 "nbformat": 4,
 "nbformat_minor": 5
}
