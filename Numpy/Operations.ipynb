{
 "cells": [
  {
   "cell_type": "markdown",
   "id": "be24d5de",
   "metadata": {},
   "source": [
    "# Operations list 1\n",
    "\n",
    "1. a + b : np.add(a, b)\n",
    "2. a - b : np.subtract(a, b)\n",
    "3. a * b : np.multiply(a, b)\n",
    "4. a / b : np.divide(a, b)\n",
    "5. a % b : np.mod(a, b)\n",
    "6. a ** b : np.power(a, b)\n",
    "7. 1 / a : np.reciprocal(a)"
   ]
  },
  {
   "cell_type": "code",
   "execution_count": 2,
   "id": "8d7db1db",
   "metadata": {},
   "outputs": [],
   "source": [
    "import numpy as np"
   ]
  },
  {
   "cell_type": "markdown",
   "id": "1e5a7e8c",
   "metadata": {},
   "source": [
    "## 1D Operations"
   ]
  },
  {
   "cell_type": "code",
   "execution_count": 15,
   "id": "bcac580f",
   "metadata": {},
   "outputs": [
    {
     "name": "stdout",
     "output_type": "stream",
     "text": [
      "Addition: [4 5 6 7 8]\n",
      "Subtraction: [-2 -1  0  1  2]\n",
      "Multiplication: [ 3  6  9 12 15]\n",
      "Division: [0.33333333 0.66666667 1.         1.33333333 1.66666667]\n",
      "Mode: [1 2 0 1 2]\n",
      "Power: [  1   8  27  64 125]\n",
      "Reciprocal: [1 0 0 0 0]\n"
     ]
    }
   ],
   "source": [
    "# Normal operations\n",
    "\n",
    "arr = [1, 2, 3, 4, 5]\n",
    "change = 3 # also try [1, 2, 3, 4, 5]\n",
    "arr1 = np.array(arr)\n",
    "\n",
    "print(f\"Addition: {arr1 + change}\")\n",
    "print(f\"Subtraction: {arr1 - change}\")\n",
    "print(f\"Multiplication: {arr1 * change}\")\n",
    "print(f\"Division: {arr1 / change}\")\n",
    "print(f\"Mode: {arr1 % change}\")\n",
    "print(f\"Power: {arr1 ** change}\")\n",
    "print(f\"Reciprocal: {1 // arr1}\")"
   ]
  },
  {
   "cell_type": "code",
   "execution_count": 16,
   "id": "fc082297",
   "metadata": {},
   "outputs": [
    {
     "name": "stdout",
     "output_type": "stream",
     "text": [
      "Addition: [4 5 6 7 8]\n",
      "Subtraction: [-2 -1  0  1  2]\n",
      "Multiplication: [ 3  6  9 12 15]\n",
      "Division: [0.33333333 0.66666667 1.         1.33333333 1.66666667]\n",
      "Mode: [1 2 0 1 2]\n",
      "Power: [  1   8  27  64 125]\n",
      "Reciprocal: [1 0 0 0 0]\n"
     ]
    }
   ],
   "source": [
    "# Functional operations\n",
    "\n",
    "arr = [1, 2, 3, 4, 5]\n",
    "change = 3 # also try [1, 2, 3, 4, 5]\n",
    "arr1 = np.array(arr)\n",
    "\n",
    "print(f\"Addition: {np.add(arr1, change)}\")\n",
    "print(f\"Subtraction: {np.subtract(arr1, change)}\")\n",
    "print(f\"Multiplication: {np.multiply(arr1, change)}\")\n",
    "print(f\"Division: {np.divide(arr1, change)}\")\n",
    "print(f\"Mode: {np.mod(arr1, change)}\")\n",
    "print(f\"Power: {np.power(arr1, change)}\")\n",
    "print(f\"Reciprocal: {np.reciprocal(arr1)}\")"
   ]
  },
  {
   "cell_type": "markdown",
   "id": "d49cb3fa",
   "metadata": {},
   "source": [
    "## 2D Operations\n"
   ]
  },
  {
   "cell_type": "code",
   "execution_count": 17,
   "id": "acaa4c22",
   "metadata": {},
   "outputs": [
    {
     "name": "stdout",
     "output_type": "stream",
     "text": [
      "Addition: \n",
      "[[4 5 6]\n",
      " [7 8 9]]\n",
      "Subtraction: \n",
      "[[-2 -1  0]\n",
      " [ 1  2  3]]\n",
      "Multiplication: \n",
      "[[ 3  6  9]\n",
      " [12 15 18]]\n",
      "Division: \n",
      "[[0.33333333 0.66666667 1.        ]\n",
      " [1.33333333 1.66666667 2.        ]]\n",
      "Mode: \n",
      "[[1 2 0]\n",
      " [1 2 0]]\n",
      "Power: \n",
      "[[  1   8  27]\n",
      " [ 64 125 216]]\n",
      "Reciprocal: \n",
      "[[1 0 0]\n",
      " [0 0 0]]\n"
     ]
    }
   ],
   "source": [
    "# Normal operations\n",
    "\n",
    "arr = [[1, 2, 3], [4, 5, 6]]\n",
    "change = 3 # also try [[9, 8, 7], [6, 5, 4]]\n",
    "arr1 = np.array(arr)\n",
    "\n",
    "print(f\"Addition: \\n{arr1 + change}\")\n",
    "print(f\"Subtraction: \\n{arr1 - change}\")\n",
    "print(f\"Multiplication: \\n{arr1 * change}\")\n",
    "print(f\"Division: \\n{arr1 / change}\")\n",
    "print(f\"Mode: \\n{arr1 % change}\")\n",
    "print(f\"Power: \\n{arr1 ** change}\")\n",
    "print(f\"Reciprocal: \\n{1 // arr1}\")"
   ]
  },
  {
   "cell_type": "code",
   "execution_count": 18,
   "id": "b09cb0db",
   "metadata": {},
   "outputs": [
    {
     "name": "stdout",
     "output_type": "stream",
     "text": [
      "Addition: \n",
      "[[4 5 6]\n",
      " [7 8 9]]\n",
      "Subtraction: \n",
      "[[-2 -1  0]\n",
      " [ 1  2  3]]\n",
      "Multiplication: \n",
      "[[ 3  6  9]\n",
      " [12 15 18]]\n",
      "Division: \n",
      "[[0.33333333 0.66666667 1.        ]\n",
      " [1.33333333 1.66666667 2.        ]]\n",
      "Mode: \n",
      "[[1 2 0]\n",
      " [1 2 0]]\n",
      "Power: \n",
      "[[  1   8  27]\n",
      " [ 64 125 216]]\n",
      "Reciprocal: \n",
      "[[1 0 0]\n",
      " [0 0 0]]\n"
     ]
    }
   ],
   "source": [
    "# Functional operations\n",
    "\n",
    "arr = [[1, 2, 3], [4, 5, 6]]\n",
    "change = 3 # also try [[9, 8, 7], [6, 5, 4]]\n",
    "arr1 = np.array(arr)\n",
    "\n",
    "print(f\"Addition: \\n{np.add(arr1, change)}\")\n",
    "print(f\"Subtraction: \\n{np.subtract(arr1, change)}\")\n",
    "print(f\"Multiplication: \\n{np.multiply(arr1, change)}\")\n",
    "print(f\"Division: \\n{np.divide(arr1, change)}\")\n",
    "print(f\"Mode: \\n{np.mod(arr1, change)}\")\n",
    "print(f\"Power: \\n{np.power(arr1, change)}\")\n",
    "print(f\"Reciprocal: \\n{np.reciprocal(arr1)}\")"
   ]
  },
  {
   "cell_type": "markdown",
   "id": "32bd3c40",
   "metadata": {},
   "source": [
    "# Operations list 2\n",
    "\n",
    "1. np.min(x)\n",
    "2. np.max(x)\n",
    "3. np.argmin(x)\n",
    "4. np.argmax(x)\n",
    "5. np.sqrt(x)\n",
    "6. np.sin(x)\n",
    "7. np.cos(x)\n",
    "8. np.tan(x)\n",
    "9. np.cumsum(x) // Prefix sum"
   ]
  },
  {
   "cell_type": "markdown",
   "id": "8ef84c83",
   "metadata": {},
   "source": [
    "## 1D Operations"
   ]
  },
  {
   "cell_type": "code",
   "execution_count": 39,
   "id": "5ad939ca",
   "metadata": {},
   "outputs": [
    {
     "name": "stdout",
     "output_type": "stream",
     "text": [
      "Min: 9\n",
      "Max: 81\n",
      "Arg Min Index: 0\n",
      "Arg Max Index: 2\n",
      "Sqrt: [3. 8. 9. 4.]\n",
      "Sin: [ 0.41211849  0.92002604 -0.62988799 -0.28790332]\n",
      "Cos: [-0.91113026  0.39185723  0.77668598 -0.95765948]\n",
      "Tan: [-0.45231566  2.34786031 -0.81099442  0.30063224]\n",
      "Cumsum: [  9  73 154 170]\n"
     ]
    }
   ],
   "source": [
    "# Functional operations\n",
    "\n",
    "arr = [9, 64, 81, 16]\n",
    "arr1 = np.array(arr)\n",
    "\n",
    "print(f\"Min: {np.min(arr1)}\")\n",
    "print(f\"Max: {np.max(arr1)}\")\n",
    "print(f\"Arg Min Index: {np.argmin(arr1)}\")\n",
    "print(f\"Arg Max Index: {np.argmax(arr1)}\")\n",
    "print(f\"Sqrt: {np.sqrt(arr1)}\")\n",
    "print(f\"Sin: {np.sin(arr1)}\")\n",
    "print(f\"Cos: {np.cos(arr1)}\")\n",
    "print(f\"Tan: {np.tan(arr1)}\")\n",
    "print(f\"Cumsum: {np.cumsum(arr1)}\")"
   ]
  },
  {
   "cell_type": "markdown",
   "id": "1441ab43",
   "metadata": {},
   "source": [
    "## 2D Operations"
   ]
  },
  {
   "cell_type": "code",
   "execution_count": 40,
   "id": "b02f0e10",
   "metadata": {},
   "outputs": [
    {
     "name": "stdout",
     "output_type": "stream",
     "text": [
      "Min Axis 0: [ 9  1 36  4]\n",
      "Min Axis 1: [4 1]\n",
      "Max Axis 0: [25 64 81 16]\n",
      "Max Axis 1: [64 81]\n",
      "Arg Min Index Axis 0: [0 1 0 0]\n",
      "Arg Min Index Axis 1: [3 1]\n",
      "Arg Max Index Axis 0: [1 0 1 1]\n",
      "Arg Max Index Axis 1: [1 2]\n",
      "Sqrt: \n",
      "[[3. 8. 6. 2.]\n",
      " [5. 1. 9. 4.]]\n",
      "Sin: \n",
      "[[ 0.41211849  0.92002604 -0.99177885 -0.7568025 ]\n",
      " [-0.13235175  0.84147098 -0.62988799 -0.28790332]]\n",
      "Cos: \n",
      "[[-0.91113026  0.39185723 -0.12796369 -0.65364362]\n",
      " [ 0.99120281  0.54030231  0.77668598 -0.95765948]]\n",
      "Tan: \n",
      "[[-0.45231566  2.34786031  7.75047091  1.15782128]\n",
      " [-0.13352641  1.55740772 -0.81099442  0.30063224]]\n",
      "Cumsum: \n",
      "[  9  73 109 113 138 139 220 236]\n"
     ]
    }
   ],
   "source": [
    "# Functional operations\n",
    "\n",
    "# (Optional) only in 2D\n",
    "# Axis 0 = Col\n",
    "# Axis 1 = Row\n",
    "\n",
    "arr = [[9,  64, 36,  4], \n",
    "       [25, 1,  81, 16]]\n",
    "arr1 = np.array(arr)\n",
    "\n",
    "print(f\"Min Axis 0: {np.min(arr1, axis = 0)}\")\n",
    "print(f\"Min Axis 1: {np.min(arr1, axis = 1)}\")\n",
    "print(f\"Max Axis 0: {np.max(arr1, axis = 0)}\")\n",
    "print(f\"Max Axis 1: {np.max(arr1, axis = 1)}\")\n",
    "print(f\"Arg Min Index Axis 0: {np.argmin(arr1, axis = 0)}\")\n",
    "print(f\"Arg Min Index Axis 1: {np.argmin(arr1, axis = 1)}\")\n",
    "print(f\"Arg Max Index Axis 0: {np.argmax(arr1, axis = 0)}\")\n",
    "print(f\"Arg Max Index Axis 1: {np.argmax(arr1, axis = 1)}\")\n",
    "print(f\"Sqrt: \\n{np.sqrt(arr1)}\")\n",
    "print(f\"Sin: \\n{np.sin(arr1)}\")\n",
    "print(f\"Cos: \\n{np.cos(arr1)}\")\n",
    "print(f\"Tan: \\n{np.tan(arr1)}\")\n",
    "print(f\"Cumsum: \\n{np.cumsum(arr1)}\")"
   ]
  },
  {
   "cell_type": "code",
   "execution_count": null,
   "id": "539e0f96",
   "metadata": {},
   "outputs": [],
   "source": []
  }
 ],
 "metadata": {
  "kernelspec": {
   "display_name": "Python 3 (ipykernel)",
   "language": "python",
   "name": "python3"
  },
  "language_info": {
   "codemirror_mode": {
    "name": "ipython",
    "version": 3
   },
   "file_extension": ".py",
   "mimetype": "text/x-python",
   "name": "python",
   "nbconvert_exporter": "python",
   "pygments_lexer": "ipython3",
   "version": "3.11.4"
  }
 },
 "nbformat": 4,
 "nbformat_minor": 5
}
