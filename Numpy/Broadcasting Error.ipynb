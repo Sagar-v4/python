{
 "cells": [
  {
   "cell_type": "markdown",
   "id": "d2c3bca0",
   "metadata": {},
   "source": [
    "## Brodcast error\n",
    "\n",
    "    It occurs when 2 array / matrix are not same while performing some operations"
   ]
  },
  {
   "cell_type": "markdown",
   "id": "9a6b0c6f",
   "metadata": {},
   "source": [
    "### Solutions\n",
    "\n",
    "1. Shape / Dimensions should be same\n",
    "2. if not same:\n",
    "    compare from the right and shoud have 1 shape any one of them\n",
    "    example:\n",
    "    \n",
    "        x1  y1  x2  y2\n",
    "    1. (1 x 3) (1 x 4) = error\n",
    "    2. (1 x 3) (5 x 1) = works\n",
    "    3. (1 x 3) (3 x 3) = works\n",
    "    \n",
    "    y1 & y2 should be same OR any one of them should be 1"
   ]
  },
  {
   "cell_type": "code",
   "execution_count": 1,
   "id": "34112df3",
   "metadata": {},
   "outputs": [],
   "source": [
    "import numpy as np"
   ]
  },
  {
   "cell_type": "code",
   "execution_count": 2,
   "id": "6491e41b",
   "metadata": {},
   "outputs": [
    {
     "ename": "ValueError",
     "evalue": "operands could not be broadcast together with shapes (4,) (3,) ",
     "output_type": "error",
     "traceback": [
      "\u001b[0;31m---------------------------------------------------------------------------\u001b[0m",
      "\u001b[0;31mValueError\u001b[0m                                Traceback (most recent call last)",
      "Cell \u001b[0;32mIn[2], line 7\u001b[0m\n\u001b[1;32m      4\u001b[0m arr1 \u001b[38;5;241m=\u001b[39m np\u001b[38;5;241m.\u001b[39marray(data1)\n\u001b[1;32m      5\u001b[0m arr2 \u001b[38;5;241m=\u001b[39m np\u001b[38;5;241m.\u001b[39marray(data2)\n\u001b[0;32m----> 7\u001b[0m \u001b[38;5;28mprint\u001b[39m(arr1 \u001b[38;5;241m+\u001b[39m arr2)\n",
      "\u001b[0;31mValueError\u001b[0m: operands could not be broadcast together with shapes (4,) (3,) "
     ]
    }
   ],
   "source": [
    "data1 = [1, 2, 3, 4]\n",
    "data2 = [1, 2, 3]\n",
    "\n",
    "arr1 = np.array(data1)\n",
    "arr2 = np.array(data2)\n",
    "\n",
    "print(arr1 + arr2)"
   ]
  },
  {
   "cell_type": "code",
   "execution_count": 11,
   "id": "d8c1b4b3",
   "metadata": {},
   "outputs": [
    {
     "name": "stdout",
     "output_type": "stream",
     "text": [
      "Shape of [1 2 3]: (3,)\n",
      "Shape of \n",
      "[[1]\n",
      " [2]\n",
      " [3]] : (3, 1)\n",
      "Addition : \n",
      "[[2 3 4]\n",
      " [3 4 5]\n",
      " [4 5 6]]\n"
     ]
    }
   ],
   "source": [
    "data1 = [1, 2, 3]\n",
    "data2 = [[1], [2], [3]]\n",
    "\n",
    "arr1 = np.array(data1)\n",
    "arr2 = np.array(data2)\n",
    "\n",
    "print(f\"Shape of {arr1}: {arr1.shape}\")\n",
    "print(f\"Shape of \\n{arr2} : {arr2.shape}\")\n",
    "\n",
    "print(f\"Addition : \\n{arr1 + arr2}\")"
   ]
  },
  {
   "cell_type": "code",
   "execution_count": 12,
   "id": "64d794b6",
   "metadata": {},
   "outputs": [
    {
     "name": "stdout",
     "output_type": "stream",
     "text": [
      "Shape of [1 2 3]: (3,)\n",
      "Shape of \n",
      "[[1]\n",
      " [2]\n",
      " [3]\n",
      " [4]\n",
      " [5]] : (5, 1)\n",
      "Addition : \n",
      "[[2 3 4]\n",
      " [3 4 5]\n",
      " [4 5 6]\n",
      " [5 6 7]\n",
      " [6 7 8]]\n"
     ]
    }
   ],
   "source": [
    "# example2: (1 x 3) (5 x 1)\n",
    "\n",
    "data1 = [1, 2, 3]\n",
    "data2 = [[1], [2], [3], [4], [5]]\n",
    "\n",
    "arr1 = np.array(data1)\n",
    "arr2 = np.array(data2)\n",
    "\n",
    "print(f\"Shape of {arr1}: {arr1.shape}\")\n",
    "print(f\"Shape of \\n{arr2} : {arr2.shape}\")\n",
    "\n",
    "print(f\"Addition : \\n{arr1 + arr2}\")"
   ]
  },
  {
   "cell_type": "code",
   "execution_count": 13,
   "id": "318218cb",
   "metadata": {},
   "outputs": [
    {
     "name": "stdout",
     "output_type": "stream",
     "text": [
      "Shape of [1 2 3]: (3,)\n",
      "Shape of \n",
      "[[1 2 3]\n",
      " [4 5 6]\n",
      " [7 8 9]] : (3, 3)\n",
      "Addition : \n",
      "[[ 2  4  6]\n",
      " [ 5  7  9]\n",
      " [ 8 10 12]]\n"
     ]
    }
   ],
   "source": [
    "# example3: (1 x 3) (3 x 3)\n",
    "\n",
    "data1 = [1, 2, 3]\n",
    "data2 = [[1, 2, 3], [4, 5, 6], [7, 8, 9]]\n",
    "\n",
    "arr1 = np.array(data1)\n",
    "arr2 = np.array(data2)\n",
    "\n",
    "print(f\"Shape of {arr1}: {arr1.shape}\")\n",
    "print(f\"Shape of \\n{arr2} : {arr2.shape}\")\n",
    "\n",
    "print(f\"Addition : \\n{arr1 + arr2}\")"
   ]
  },
  {
   "cell_type": "code",
   "execution_count": null,
   "id": "d27c3cf8",
   "metadata": {},
   "outputs": [],
   "source": []
  }
 ],
 "metadata": {
  "kernelspec": {
   "display_name": "Python 3 (ipykernel)",
   "language": "python",
   "name": "python3"
  },
  "language_info": {
   "codemirror_mode": {
    "name": "ipython",
    "version": 3
   },
   "file_extension": ".py",
   "mimetype": "text/x-python",
   "name": "python",
   "nbconvert_exporter": "python",
   "pygments_lexer": "ipython3",
   "version": "3.11.4"
  }
 },
 "nbformat": 4,
 "nbformat_minor": 5
}
