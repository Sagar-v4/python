{
 "cells": [
  {
   "cell_type": "code",
   "execution_count": 4,
   "id": "697cf88f",
   "metadata": {},
   "outputs": [],
   "source": [
    "import numpy as np"
   ]
  },
  {
   "cell_type": "markdown",
   "id": "7b8a5805",
   "metadata": {},
   "source": [
    "# Indexing"
   ]
  },
  {
   "cell_type": "markdown",
   "id": "fab1fba4",
   "metadata": {},
   "source": [
    "## Indexing 1D\n",
    "\n",
    "    array:   [1,  2,  3,  4]\n",
    "    index:    0,  1,  2,  3\n",
    "    rev-ind: -4, -3, -2, -1\n",
    "    \n",
    "    Shape: (1 x 4)"
   ]
  },
  {
   "cell_type": "code",
   "execution_count": 6,
   "id": "9f6716b7",
   "metadata": {},
   "outputs": [
    {
     "name": "stdout",
     "output_type": "stream",
     "text": [
      "index  1: 2\n",
      "index -1: 4\n"
     ]
    }
   ],
   "source": [
    "data = [1, 2, 3, 4]\n",
    "arr = np.array(data)\n",
    "\n",
    "print(f\"index  1: {arr[1]}\")\n",
    "print(f\"index -1: {arr[-1]}\")"
   ]
  },
  {
   "cell_type": "markdown",
   "id": "ba520602",
   "metadata": {},
   "source": [
    "## Indexing 2D\n",
    "      \n",
    "      Rows\n",
    "      0 [[1, 2, 3],\n",
    "      1  [4, 5, 6]]\n",
    "          0  1  2   Cols\n",
    "          \n",
    "      Shape: (2 x 3)      "
   ]
  },
  {
   "cell_type": "code",
   "execution_count": 16,
   "id": "2f3f0774",
   "metadata": {},
   "outputs": [
    {
     "name": "stdout",
     "output_type": "stream",
     "text": [
      "index [1][1]: 5\n",
      "index [1, 1]: 5\n"
     ]
    }
   ],
   "source": [
    "data = [[1, 2, 3],[4, 5, 6]]\n",
    "arr = np.array(data)\n",
    "\n",
    "print(f\"index [1][1]: {arr[1][1]}\")\n",
    "print(f\"index [1, 1]: {arr[1, 1]}\")"
   ]
  },
  {
   "cell_type": "markdown",
   "id": "192f1160",
   "metadata": {},
   "source": [
    "## Indexing 3D\n",
    "\n"
   ]
  },
  {
   "cell_type": "code",
   "execution_count": 15,
   "id": "1dccd6f8",
   "metadata": {},
   "outputs": [
    {
     "name": "stdout",
     "output_type": "stream",
     "text": [
      "index [0][0][1]: 2\n",
      "index [0, 0, 1]: 2\n",
      "3D Array : \n",
      "[[[1 2]\n",
      "  [8 7]]]\n"
     ]
    }
   ],
   "source": [
    "data = [[[1, 2], [8, 7]]]\n",
    "arr = np.array(data)\n",
    "\n",
    "print(f\"index [0][0][1]: {arr[0][0][1]}\")\n",
    "print(f\"index [0, 0, 1]: {arr[0, 0, 1]}\")\n",
    "print(f\"3D Array : \\n{arr}\")"
   ]
  },
  {
   "cell_type": "markdown",
   "id": "b2e0959c",
   "metadata": {},
   "source": [
    "# Slicing (same as string)\n",
    "\n",
    "    [start : stop : step]"
   ]
  },
  {
   "cell_type": "markdown",
   "id": "c0b7d7a3",
   "metadata": {},
   "source": [
    "## Slicing 1D\n",
    "\n",
    "    array:   [1,  2,  3,  4]\n",
    "    index:    0,  1,  2,  3\n",
    "    rev-ind: -4, -3, -2, -1"
   ]
  },
  {
   "cell_type": "code",
   "execution_count": 36,
   "id": "f43b0892",
   "metadata": {},
   "outputs": [
    {
     "name": "stdout",
     "output_type": "stream",
     "text": [
      "1D Array: [1 2 3 4 5 6 7 8 9]\n",
      "index [2 : 5]        : [3 4 5]\n",
      "index [2 : end]      : [3 4 5 6 7 8 9]\n",
      "index [-7::]         : [3 4 5 6 7 8 9]\n",
      "index [start : 5]    : [1 2 3 4 5]\n",
      "index [-9 : 5]       : [1 2 3 4 5]\n",
      "index [:: -1]        : [9 8 7 6 5 4 3 2 1]\n",
      "index [6:2:-1]       : [7 6 5 4]\n",
      "index [1:7:2]        : [2 4 6]\n",
      "index [7:1:-2]       : [8 6 4]\n"
     ]
    }
   ],
   "source": [
    "data = [1, 2, 3, 4, 5, 6, 7, 8 ,9]\n",
    "arr = np.array(data)\n",
    "\n",
    "print(f\"1D Array: {arr}\")\n",
    "print(f\"index [2 : 5]        : {arr[2:5]}\")\n",
    "print(f\"index [2 : end]      : {arr[2:]}\")\n",
    "print(f\"index [-7::]         : {arr[-7::]}\")\n",
    "print(f\"index [start : 5]    : {arr[:5]}\")\n",
    "print(f\"index [-9 : 5]       : {arr[-9:5]}\")\n",
    "print(f\"index [:: -1]        : {arr[::-1]}\")\n",
    "print(f\"index [6:2:-1]       : {arr[6:2:-1]}\")\n",
    "print(f\"index [1:7:2]        : {arr[1:7:2]}\")\n",
    "print(f\"index [7:1:-2]       : {arr[7:1:-2]}\")"
   ]
  },
  {
   "cell_type": "markdown",
   "id": "8408e22e",
   "metadata": {},
   "source": [
    "## Slicing 2D\n",
    "\n",
    "    Rows\n",
    "    0 [[1, 2, 3],\n",
    "    1  [4, 5, 6]]\n",
    "        0  1  2   Cols"
   ]
  },
  {
   "cell_type": "code",
   "execution_count": 43,
   "id": "1b097394",
   "metadata": {},
   "outputs": [
    {
     "name": "stdout",
     "output_type": "stream",
     "text": [
      "2D Array: \n",
      "[[ 1  2  3  4  5]\n",
      " [ 6  7  8  9 10]]\n",
      "index [1][1 : 4]        : [7 8 9]\n",
      "index [0][2 : end]      : [3 4 5]\n"
     ]
    }
   ],
   "source": [
    "data = [[1, 2, 3, 4, 5], [6, 7, 8 ,9, 10]]\n",
    "arr = np.array(data)\n",
    "\n",
    "print(f\"2D Array: \\n{arr}\")\n",
    "print(f\"index [1][1 : 4]        : {arr[1, 1:4]}\")\n",
    "print(f\"index [0][2 : end]      : {arr[0, 2:]}\")"
   ]
  },
  {
   "cell_type": "markdown",
   "id": "ef6acb06",
   "metadata": {},
   "source": [
    "## Slicing 3D"
   ]
  },
  {
   "cell_type": "code",
   "execution_count": 44,
   "id": "65620f9f",
   "metadata": {},
   "outputs": [],
   "source": [
    "# just add commas(,)\n",
    "\n",
    "# emaple:\n",
    "# arr[0, 0, ]"
   ]
  },
  {
   "cell_type": "code",
   "execution_count": null,
   "id": "7b17c957",
   "metadata": {},
   "outputs": [],
   "source": []
  }
 ],
 "metadata": {
  "kernelspec": {
   "display_name": "Python 3 (ipykernel)",
   "language": "python",
   "name": "python3"
  },
  "language_info": {
   "codemirror_mode": {
    "name": "ipython",
    "version": 3
   },
   "file_extension": ".py",
   "mimetype": "text/x-python",
   "name": "python",
   "nbconvert_exporter": "python",
   "pygments_lexer": "ipython3",
   "version": "3.11.4"
  }
 },
 "nbformat": 4,
 "nbformat_minor": 5
}
