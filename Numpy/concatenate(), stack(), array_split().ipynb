{
 "cells": [
  {
   "cell_type": "code",
   "execution_count": 2,
   "id": "d0d0649d",
   "metadata": {},
   "outputs": [],
   "source": [
    "import numpy as np"
   ]
  },
  {
   "cell_type": "markdown",
   "id": "dec7b3b3",
   "metadata": {},
   "source": [
    "## concatenate()"
   ]
  },
  {
   "cell_type": "code",
   "execution_count": 24,
   "id": "7a7360f8",
   "metadata": {},
   "outputs": [
    {
     "name": "stdout",
     "output_type": "stream",
     "text": [
      "1D concatenate: [1 2 3 4 5 6]\n"
     ]
    }
   ],
   "source": [
    "# 1D example\n",
    "\n",
    "data1 = [1, 2, 3]\n",
    "data2 = [4, 5, 6]\n",
    "\n",
    "arr1 = np.array(data1)\n",
    "arr2 = np.array(data2)\n",
    "\n",
    "arr = np.concatenate((arr1, arr2))\n",
    "print(f\"1D concatenate: {arr}\")"
   ]
  },
  {
   "cell_type": "code",
   "execution_count": 10,
   "id": "497b544d",
   "metadata": {},
   "outputs": [
    {
     "name": "stdout",
     "output_type": "stream",
     "text": [
      "2D concatenate: \n",
      "[[1 2]\n",
      " [3 4]\n",
      " [4 5]\n",
      " [6 7]]\n"
     ]
    }
   ],
   "source": [
    "# 2D example | axis = 0 (default)\n",
    "\n",
    "data1 = [[1, 2], [3, 4]]\n",
    "data2 = [[4, 5], [6, 7]]\n",
    "\n",
    "arr1 = np.array(data1)\n",
    "arr2 = np.array(data2)\n",
    "\n",
    "arr = np.concatenate((arr1, arr2))\n",
    "print(f\"2D concatenate: \\n{arr}\")"
   ]
  },
  {
   "cell_type": "code",
   "execution_count": 11,
   "id": "4481dbe3",
   "metadata": {},
   "outputs": [
    {
     "name": "stdout",
     "output_type": "stream",
     "text": [
      "2D concatenate: \n",
      "[[1 2 4 5]\n",
      " [3 4 6 7]]\n"
     ]
    }
   ],
   "source": [
    "# 2D example | axis = 1\n",
    "\n",
    "data1 = [[1, 2], [3, 4]]\n",
    "data2 = [[4, 5], [6, 7]]\n",
    "\n",
    "arr1 = np.array(data1)\n",
    "arr2 = np.array(data2)\n",
    "\n",
    "arr = np.concatenate((arr1, arr2), axis = 1)\n",
    "print(f\"2D concatenate: \\n{arr}\")"
   ]
  },
  {
   "cell_type": "markdown",
   "id": "953760c8",
   "metadata": {},
   "source": [
    "## stack() 1D"
   ]
  },
  {
   "cell_type": "code",
   "execution_count": 15,
   "id": "086576ef",
   "metadata": {},
   "outputs": [
    {
     "name": "stdout",
     "output_type": "stream",
     "text": [
      "1D concatenate: \n",
      "[[1 2 3]\n",
      " [4 5 6]]\n"
     ]
    }
   ],
   "source": [
    "# 1D example | axis = 0 (default)\n",
    "\n",
    "data1 = [1, 2, 3]\n",
    "data2 = [4, 5, 6]\n",
    "\n",
    "arr1 = np.array(data1)\n",
    "arr2 = np.array(data2)\n",
    "\n",
    "arr = np.stack((arr1, arr2))\n",
    "print(f\"1D concatenate: \\n{arr}\")"
   ]
  },
  {
   "cell_type": "code",
   "execution_count": 16,
   "id": "efe07ef0",
   "metadata": {},
   "outputs": [
    {
     "name": "stdout",
     "output_type": "stream",
     "text": [
      "1D concatenate: \n",
      "[[1 4]\n",
      " [2 5]\n",
      " [3 6]]\n"
     ]
    }
   ],
   "source": [
    "# 1D example | axis = 1\n",
    "\n",
    "data1 = [1, 2, 3]\n",
    "data2 = [4, 5, 6]\n",
    "\n",
    "arr1 = np.array(data1)\n",
    "arr2 = np.array(data2)\n",
    "\n",
    "arr = np.stack((arr1, arr2), axis = 1)\n",
    "print(f\"1D concatenate: \\n{arr}\")"
   ]
  },
  {
   "cell_type": "code",
   "execution_count": 25,
   "id": "69321855",
   "metadata": {},
   "outputs": [
    {
     "name": "stdout",
     "output_type": "stream",
     "text": [
      "2D vstack: \n",
      "[[1 2 3]\n",
      " [4 5 6]]\n",
      "1D hstack: \n",
      "[1 2 3 4 5 6]\n",
      "1D dstack: \n",
      "[[[1 4]\n",
      "  [2 5]\n",
      "  [3 6]]]\n"
     ]
    }
   ],
   "source": [
    "# 1D example\n",
    "\n",
    "data1 = [1, 2, 3]\n",
    "data2 = [4, 5, 6]\n",
    "\n",
    "arr1 = np.array(data1)\n",
    "arr2 = np.array(data2)\n",
    "\n",
    "arrV = np.vstack((arr1, arr2)) # Cols - vertical - stack - axis = 0\n",
    "arrH = np.hstack((arr1, arr2)) # Rows - horizontal - concatenate - axis = 1\n",
    "arrD = np.dstack((arr1, arr2)) # heights - depth\n",
    "\n",
    "print(f\"2D vstack: \\n{arrV}\")\n",
    "print(f\"1D hstack: \\n{arrH}\")\n",
    "print(f\"1D dstack: \\n{arrD}\")"
   ]
  },
  {
   "cell_type": "markdown",
   "id": "8b444e67",
   "metadata": {},
   "source": [
    "## stack() 2D"
   ]
  },
  {
   "cell_type": "code",
   "execution_count": 26,
   "id": "71149e21",
   "metadata": {},
   "outputs": [
    {
     "name": "stdout",
     "output_type": "stream",
     "text": [
      "2D concatenate: \n",
      "[[[1 2]\n",
      "  [3 4]]\n",
      "\n",
      " [[4 5]\n",
      "  [6 7]]]\n"
     ]
    }
   ],
   "source": [
    "# 2D example | axis = 0 (default)\n",
    "\n",
    "data1 = [[1, 2], [3, 4]]\n",
    "data2 = [[4, 5], [6, 7]]\n",
    "\n",
    "arr1 = np.array(data1)\n",
    "arr2 = np.array(data2)\n",
    "\n",
    "arr = np.stack((arr1, arr2))\n",
    "print(f\"2D concatenate: \\n{arr}\")"
   ]
  },
  {
   "cell_type": "code",
   "execution_count": 27,
   "id": "fc19e35e",
   "metadata": {},
   "outputs": [
    {
     "name": "stdout",
     "output_type": "stream",
     "text": [
      "2D concatenate: \n",
      "[[[1 2]\n",
      "  [4 5]]\n",
      "\n",
      " [[3 4]\n",
      "  [6 7]]]\n"
     ]
    }
   ],
   "source": [
    "# 2D example | axis = 1\n",
    "\n",
    "data1 = [[1, 2], [3, 4]]\n",
    "data2 = [[4, 5], [6, 7]]\n",
    "\n",
    "arr1 = np.array(data1)\n",
    "arr2 = np.array(data2)\n",
    "\n",
    "arr = np.stack((arr1, arr2), axis = 1)\n",
    "print(f\"2D concatenate: \\n{arr}\")"
   ]
  },
  {
   "cell_type": "code",
   "execution_count": 28,
   "id": "c1acdfb9",
   "metadata": {},
   "outputs": [
    {
     "name": "stdout",
     "output_type": "stream",
     "text": [
      "2D vstack: \n",
      "[[1 2]\n",
      " [3 4]\n",
      " [4 5]\n",
      " [6 7]]\n",
      "2D hstack: \n",
      "[[1 2 4 5]\n",
      " [3 4 6 7]]\n",
      "2D dstack: \n",
      "[[[1 4]\n",
      "  [2 5]]\n",
      "\n",
      " [[3 6]\n",
      "  [4 7]]]\n"
     ]
    }
   ],
   "source": [
    "# 2D example\n",
    "\n",
    "data1 = [[1, 2], [3, 4]]\n",
    "data2 = [[4, 5], [6, 7]]\n",
    "\n",
    "arr1 = np.array(data1)\n",
    "arr2 = np.array(data2)\n",
    "\n",
    "arrV = np.vstack((arr1, arr2)) # Cols - vertical - concatenate - axis = 0\n",
    "arrH = np.hstack((arr1, arr2)) # Rows - horizontal - concatenate - axis = 1\n",
    "arrD = np.dstack((arr1, arr2)) # heights - depth\n",
    "\n",
    "print(f\"2D vstack: \\n{arrV}\")\n",
    "print(f\"2D hstack: \\n{arrH}\")\n",
    "print(f\"2D dstack: \\n{arrD}\")"
   ]
  },
  {
   "cell_type": "markdown",
   "id": "dd7dc2bc",
   "metadata": {},
   "source": [
    "## split() 1D"
   ]
  },
  {
   "cell_type": "code",
   "execution_count": 42,
   "id": "b57b6a08",
   "metadata": {},
   "outputs": [
    {
     "name": "stdout",
     "output_type": "stream",
     "text": [
      "1D array_split: \n",
      "[array([1, 2]), array([3, 4]), array([5, 6])]\n",
      "[1 2]\n",
      "[3 4]\n",
      "[5 6]\n"
     ]
    }
   ],
   "source": [
    "# 1D example | axis = 0 (default)\n",
    "\n",
    "data = [1, 2, 3, 4, 5, 6]\n",
    "\n",
    "arr = np.array(data)\n",
    "arrs = np.array_split(arr, 3)\n",
    "\n",
    "print(f\"1D array_split: \\n{arrs}\")\n",
    "for ar in arrs:\n",
    "    print(ar)"
   ]
  },
  {
   "cell_type": "markdown",
   "id": "2acb278e",
   "metadata": {},
   "source": [
    "## split 2D"
   ]
  },
  {
   "cell_type": "code",
   "execution_count": 43,
   "id": "e21ab7d9",
   "metadata": {},
   "outputs": [
    {
     "name": "stdout",
     "output_type": "stream",
     "text": [
      "2D array_split: \n",
      "[array([[1, 2]]), array([[3, 4]])]\n",
      "[[1 2]]\n",
      "[[3 4]]\n"
     ]
    }
   ],
   "source": [
    "# 2D example | axis = 0 (default)\n",
    "\n",
    "data = [[1, 2], [3, 4]]\n",
    "\n",
    "arr = np.array(data)\n",
    "arrs = np.array_split(arr, 2)\n",
    "\n",
    "print(f\"2D array_split: \\n{arrs}\")\n",
    "for ar in arrs:\n",
    "    print(ar)"
   ]
  },
  {
   "cell_type": "code",
   "execution_count": 44,
   "id": "904e407b",
   "metadata": {},
   "outputs": [
    {
     "name": "stdout",
     "output_type": "stream",
     "text": [
      "2D array_split: \n",
      "[array([[1],\n",
      "       [3]]), array([[2],\n",
      "       [4]])]\n",
      "[[1]\n",
      " [3]]\n",
      "[[2]\n",
      " [4]]\n"
     ]
    }
   ],
   "source": [
    "# 2D example | axis = 1\n",
    "\n",
    "data = [[1, 2], [3, 4]]\n",
    "\n",
    "arr = np.array(data)\n",
    "arrs = np.array_split(arr, 2, axis = 1)\n",
    "\n",
    "print(f\"2D array_split: \\n{arrs}\")\n",
    "for ar in arrs:\n",
    "    print(ar)"
   ]
  },
  {
   "cell_type": "code",
   "execution_count": null,
   "id": "fb2639fd",
   "metadata": {},
   "outputs": [],
   "source": []
  }
 ],
 "metadata": {
  "kernelspec": {
   "display_name": "Python 3 (ipykernel)",
   "language": "python",
   "name": "python3"
  },
  "language_info": {
   "codemirror_mode": {
    "name": "ipython",
    "version": 3
   },
   "file_extension": ".py",
   "mimetype": "text/x-python",
   "name": "python",
   "nbconvert_exporter": "python",
   "pygments_lexer": "ipython3",
   "version": "3.11.4"
  }
 },
 "nbformat": 4,
 "nbformat_minor": 5
}
