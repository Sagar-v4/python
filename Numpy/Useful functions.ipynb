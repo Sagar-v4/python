{
 "cells": [
  {
   "cell_type": "code",
   "execution_count": 1,
   "id": "7dfab90c",
   "metadata": {},
   "outputs": [],
   "source": [
    "import numpy as np"
   ]
  },
  {
   "cell_type": "markdown",
   "id": "2aeb1a6b",
   "metadata": {},
   "source": [
    "# Search index in any Array"
   ]
  },
  {
   "cell_type": "code",
   "execution_count": 15,
   "id": "f442c293",
   "metadata": {},
   "outputs": [
    {
     "name": "stdout",
     "output_type": "stream",
     "text": [
      "Indexes of 4's: (array([ 3,  7, 12]),)\n",
      "Indexes of even vals: (array([ 0,  3,  4,  5,  6,  7,  8, 10, 12, 14]),)\n",
      "Indexes of odd vals: (array([ 1,  2,  9, 11, 13]),)\n",
      "Indexes of odd vals: (array([ 1,  2,  9, 11, 13]),)\n"
     ]
    }
   ],
   "source": [
    "data = [2, 43, 5, 4, 2, 2, 54, 4, 56, 57, 676, 745, 4, 53, 32]\n",
    "\n",
    "arr = np.array(data)\n",
    "\n",
    "ans = np.where(arr == 4)\n",
    "print(f\"Indexes of 4's: {ans}\")\n",
    "\n",
    "ans = np.where(arr % 2 == 0)\n",
    "print(f\"Indexes of even vals: {ans}\")\n",
    "ans = np.where(arr % 2 != 0)\n",
    "print(f\"Indexes of odd vals: {ans}\")\n",
    "ans = np.where(arr & 1)\n",
    "print(f\"Indexes of odd vals: {ans}\")"
   ]
  },
  {
   "cell_type": "markdown",
   "id": "8f82baed",
   "metadata": {},
   "source": [
    "# Search adding val index in Sorted Array"
   ]
  },
  {
   "cell_type": "code",
   "execution_count": 29,
   "id": "857d2638",
   "metadata": {},
   "outputs": [
    {
     "name": "stdout",
     "output_type": "stream",
     "text": [
      "110 can be placed at: 13 index\n"
     ]
    }
   ],
   "source": [
    "# Left to Right (default)\n",
    "\n",
    "data = [2, 43, 5, 4, 2, 2, 54, 4, 56, 57, 676, 745, 4, 53, 32]\n",
    "data.sort()\n",
    "\n",
    "arr = np.array(data)\n",
    "insert = 110\n",
    "\n",
    "ans = np.searchsorted(arr, insert)\n",
    "print(f\"{insert} can be placed at: {ans} index\")"
   ]
  },
  {
   "cell_type": "code",
   "execution_count": 30,
   "id": "590c426f",
   "metadata": {},
   "outputs": [
    {
     "name": "stdout",
     "output_type": "stream",
     "text": [
      "110 can be placed at: 13 index\n"
     ]
    }
   ],
   "source": [
    "# Right to Left\n",
    "data = [2, 43, 5, 4, 2, 2, 54, 4, 56, 57, 676, 745, 4, 53, 32]\n",
    "data.sort()\n",
    "\n",
    "arr = np.array(data)\n",
    "insert = 110\n",
    "\n",
    "ans = np.searchsorted(arr, insert, side=\"right\")\n",
    "print(f\"{insert} can be placed at: {ans} index\")"
   ]
  },
  {
   "cell_type": "code",
   "execution_count": 31,
   "id": "bd125f6a",
   "metadata": {},
   "outputs": [
    {
     "name": "stdout",
     "output_type": "stream",
     "text": [
      "[5, 9, 44] can be placed at: [6 7 9] index\n"
     ]
    }
   ],
   "source": [
    "# find index of array\n",
    "\n",
    "data = [2, 43, 5, 4, 2, 2, 54, 4, 56, 57, 676, 745, 4, 53, 32]\n",
    "data.sort()\n",
    "\n",
    "arr = np.array(data)\n",
    "insert = [5, 9, 44]\n",
    "\n",
    "ans = np.searchsorted(arr, insert)\n",
    "print(f\"{insert} can be placed at: {ans} index\")"
   ]
  },
  {
   "cell_type": "markdown",
   "id": "788c80f8",
   "metadata": {},
   "source": [
    "# Sort Array"
   ]
  },
  {
   "cell_type": "code",
   "execution_count": 42,
   "id": "4f9fb091",
   "metadata": {},
   "outputs": [
    {
     "name": "stdout",
     "output_type": "stream",
     "text": [
      "Sorted: [  2   2   2   4   4   4   5  32  43  53  54  56  57 676 745]\n"
     ]
    }
   ],
   "source": [
    "#  1D\n",
    "\n",
    "data = [2, 43, 5, 4, 2, 2, 54, 4, 56, 57, 676, 745, 4, 53, 32]\n",
    "\n",
    "arr = np.array(data)\n",
    "\n",
    "ans = np.sort(arr)\n",
    "print(f\"Sorted: {ans}\")"
   ]
  },
  {
   "cell_type": "code",
   "execution_count": 43,
   "id": "b3e06c9d",
   "metadata": {},
   "outputs": [
    {
     "name": "stdout",
     "output_type": "stream",
     "text": [
      "Sorted: \n",
      "[[  2   5  43]\n",
      " [  2   2   4]\n",
      " [  4  54  56]\n",
      " [ 57 676 745]\n",
      " [  4  32  53]]\n"
     ]
    }
   ],
   "source": [
    "#  2D\n",
    "\n",
    "data = [[2, 43, 5], [4, 2, 2], [54, 4, 56], [57, 676, 745], [4, 53, 32]]\n",
    "\n",
    "arr = np.array(data)\n",
    "\n",
    "ans = np.sort(arr)\n",
    "print(f\"Sorted: \\n{ans}\")"
   ]
  },
  {
   "cell_type": "markdown",
   "id": "69348068",
   "metadata": {},
   "source": [
    "# Filter() Array"
   ]
  },
  {
   "cell_type": "code",
   "execution_count": 45,
   "id": "7907247a",
   "metadata": {},
   "outputs": [
    {
     "name": "stdout",
     "output_type": "stream",
     "text": [
      "Filtered: ['jan' 'may' 'july' 'oct' 'dec']\n"
     ]
    }
   ],
   "source": [
    "#  1D\n",
    "\n",
    "data = [\"jan\", \"feb\", \"march\", \"apr\", \"may\", \"jun\", \"july\", \"aug\", \"sept\", \"oct\", \"nov\", \"dec\"]\n",
    "fitr = [True, False, False, False, True, False, True, False, False, True, False, True]\n",
    "\n",
    "arr = np.array(data)\n",
    "\n",
    "ans = arr[fitr]\n",
    "print(f\"Filtered: {ans}\")"
   ]
  },
  {
   "cell_type": "markdown",
   "id": "b67bf9f2",
   "metadata": {},
   "source": [
    "# Shuffle\n",
    "    \n",
    "    shuffle the data"
   ]
  },
  {
   "cell_type": "code",
   "execution_count": 48,
   "id": "6894d9ce",
   "metadata": {},
   "outputs": [
    {
     "name": "stdout",
     "output_type": "stream",
     "text": [
      "Shuffled: ['nov' 'dec' 'feb' 'may' 'oct' 'jan' 'sept' 'apr' 'jun' 'july' 'march'\n",
      " 'aug']\n"
     ]
    }
   ],
   "source": [
    "data = [\"jan\", \"feb\", \"march\", \"apr\", \"may\", \"jun\", \"july\", \"aug\", \"sept\", \"oct\", \"nov\", \"dec\"]\n",
    "\n",
    "arr = np.array(data)\n",
    "\n",
    "np.random.shuffle(arr)\n",
    "print(f\"Shuffled: {arr}\")"
   ]
  },
  {
   "cell_type": "markdown",
   "id": "b621af5b",
   "metadata": {},
   "source": [
    "# Unique"
   ]
  },
  {
   "cell_type": "code",
   "execution_count": 54,
   "id": "c052b63f",
   "metadata": {},
   "outputs": [
    {
     "name": "stdout",
     "output_type": "stream",
     "text": [
      "Unique  : [  2   4   5  32  43  53  54  56  57 676 745]\n",
      "Indexes : [ 0  3  2 14  1 13  6  8  9 10 11]\n",
      "Inverse : [ 0  4  2  1  0  0  6  1  7  8  9 10  1  5  3]\n",
      "Counts  : [3 3 1 1 1 1 1 1 1 1 1]\n",
      "Original: [  2  43   5   4   2   2  54   4  56  57 676 745   4  53  32]\n"
     ]
    }
   ],
   "source": [
    "data =  [2, 43, 5, 4, 2, 2, 54, 4, 56, 57, 676, 745, 4, 53, 32]\n",
    "\n",
    "arr = np.array(data)\n",
    "\n",
    "ans = np.unique(arr, return_index=True, return_inverse=True, return_counts=True)\n",
    "print(f\"Unique  : {ans[0]}\")\n",
    "print(f\"Indexes : {ans[1]}\")\n",
    "print(f\"Inverse : {ans[2]}\")\n",
    "print(f\"Counts  : {ans[3]}\")\n",
    "print(f\"Original: {arr}\")"
   ]
  },
  {
   "cell_type": "markdown",
   "id": "79fe9484",
   "metadata": {},
   "source": [
    "# Resize"
   ]
  },
  {
   "cell_type": "code",
   "execution_count": 62,
   "id": "04f25e27",
   "metadata": {},
   "outputs": [
    {
     "name": "stdout",
     "output_type": "stream",
     "text": [
      "Original: [  2  43   5   4   2   2  54   4  56  57 676 745   4  53  32]\n",
      "Resize: \n",
      "[[ 2 43  5]\n",
      " [ 4  2  2]\n",
      " [54  4 56]]\n"
     ]
    }
   ],
   "source": [
    "data =  [2, 43, 5, 4, 2, 2, 54, 4, 56, 57, 676, 745, 4, 53, 32]\n",
    "\n",
    "arr = np.array(data)\n",
    "\n",
    "ans = np.resize(arr, (3, 3))\n",
    "print(f\"Original: {arr}\")\n",
    "print(f\"Resize: \\n{ans}\")"
   ]
  },
  {
   "cell_type": "markdown",
   "id": "83dedabe",
   "metadata": {},
   "source": [
    "# Flatten()"
   ]
  },
  {
   "cell_type": "code",
   "execution_count": 74,
   "id": "2d36cd74",
   "metadata": {},
   "outputs": [
    {
     "name": "stdout",
     "output_type": "stream",
     "text": [
      "Original: \n",
      "[[  2  43   5]\n",
      " [  4   2   2]\n",
      " [ 54   4  56]\n",
      " [ 57 676 745]\n",
      " [  4  53  32]]\n",
      "Flatten row wise: [  2  43   5   4   2   2  54   4  56  57 676 745   4  53  32]\n",
      "Flatten col wise: [  2   4  54  57   4  43   2   4 676  53   5   2  56 745  32]\n"
     ]
    }
   ],
   "source": [
    "data = [[2, 43, 5], [4, 2, 2], [54, 4, 56], [57, 676, 745], [4, 53, 32]]\n",
    "\n",
    "arr = np.array(data)\n",
    "print(f\"Original: \\n{arr}\")\n",
    "\n",
    "ans = arr.flatten() # default order=\"C\"\n",
    "print(f\"Flatten row wise: {ans}\")\n",
    "\n",
    "ans = arr.flatten(order = \"F\")\n",
    "print(f\"Flatten col wise: {ans}\")"
   ]
  },
  {
   "cell_type": "markdown",
   "id": "1b6d754b",
   "metadata": {},
   "source": [
    "# Ravel()"
   ]
  },
  {
   "cell_type": "code",
   "execution_count": 76,
   "id": "2686d282",
   "metadata": {},
   "outputs": [
    {
     "name": "stdout",
     "output_type": "stream",
     "text": [
      "Original: \n",
      "[[  2  43   5]\n",
      " [  4   2   2]\n",
      " [ 54   4  56]\n",
      " [ 57 676 745]\n",
      " [  4  53  32]]\n"
     ]
    },
    {
     "ename": "AttributeError",
     "evalue": "module 'numpy' has no attribute 'reval'",
     "output_type": "error",
     "traceback": [
      "\u001b[0;31m---------------------------------------------------------------------------\u001b[0m",
      "\u001b[0;31mAttributeError\u001b[0m                            Traceback (most recent call last)",
      "Cell \u001b[0;32mIn[76], line 6\u001b[0m\n\u001b[1;32m      3\u001b[0m arr \u001b[38;5;241m=\u001b[39m np\u001b[38;5;241m.\u001b[39marray(data)\n\u001b[1;32m      4\u001b[0m \u001b[38;5;28mprint\u001b[39m(\u001b[38;5;124mf\u001b[39m\u001b[38;5;124m\"\u001b[39m\u001b[38;5;124mOriginal: \u001b[39m\u001b[38;5;130;01m\\n\u001b[39;00m\u001b[38;5;132;01m{\u001b[39;00marr\u001b[38;5;132;01m}\u001b[39;00m\u001b[38;5;124m\"\u001b[39m)\n\u001b[0;32m----> 6\u001b[0m ans \u001b[38;5;241m=\u001b[39m np\u001b[38;5;241m.\u001b[39mreval(arr) \u001b[38;5;66;03m# default order=\"C\"\u001b[39;00m\n\u001b[1;32m      7\u001b[0m \u001b[38;5;28mprint\u001b[39m(\u001b[38;5;124mf\u001b[39m\u001b[38;5;124m\"\u001b[39m\u001b[38;5;124mFlatten row wise: \u001b[39m\u001b[38;5;132;01m{\u001b[39;00mans\u001b[38;5;132;01m}\u001b[39;00m\u001b[38;5;124m\"\u001b[39m)\n\u001b[1;32m      9\u001b[0m ans \u001b[38;5;241m=\u001b[39m np\u001b[38;5;241m.\u001b[39mreval(arr, order \u001b[38;5;241m=\u001b[39m \u001b[38;5;124m\"\u001b[39m\u001b[38;5;124mF\u001b[39m\u001b[38;5;124m\"\u001b[39m)\n",
      "File \u001b[0;32m~/anaconda3/lib/python3.11/site-packages/numpy/__init__.py:320\u001b[0m, in \u001b[0;36m__getattr__\u001b[0;34m(attr)\u001b[0m\n\u001b[1;32m    317\u001b[0m     \u001b[38;5;28;01mfrom\u001b[39;00m \u001b[38;5;21;01m.\u001b[39;00m\u001b[38;5;21;01mtesting\u001b[39;00m \u001b[38;5;28;01mimport\u001b[39;00m Tester\n\u001b[1;32m    318\u001b[0m     \u001b[38;5;28;01mreturn\u001b[39;00m Tester\n\u001b[0;32m--> 320\u001b[0m \u001b[38;5;28;01mraise\u001b[39;00m \u001b[38;5;167;01mAttributeError\u001b[39;00m(\u001b[38;5;124m\"\u001b[39m\u001b[38;5;124mmodule \u001b[39m\u001b[38;5;132;01m{!r}\u001b[39;00m\u001b[38;5;124m has no attribute \u001b[39m\u001b[38;5;124m\"\u001b[39m\n\u001b[1;32m    321\u001b[0m                      \u001b[38;5;124m\"\u001b[39m\u001b[38;5;132;01m{!r}\u001b[39;00m\u001b[38;5;124m\"\u001b[39m\u001b[38;5;241m.\u001b[39mformat(\u001b[38;5;18m__name__\u001b[39m, attr))\n",
      "\u001b[0;31mAttributeError\u001b[0m: module 'numpy' has no attribute 'reval'"
     ]
    }
   ],
   "source": [
    "data = [[2, 43, 5], [4, 2, 2], [54, 4, 56], [57, 676, 745], [4, 53, 32]]\n",
    "\n",
    "arr = np.array(data)\n",
    "print(f\"Original: \\n{arr}\")\n",
    "\n",
    "ans = np.reval(arr) # default order=\"C\"\n",
    "print(f\"Flatten row wise: {ans}\")\n",
    "\n",
    "ans = np.reval(arr, order = \"F\")\n",
    "print(f\"Flatten col wise: {ans}\")"
   ]
  },
  {
   "cell_type": "code",
   "execution_count": null,
   "id": "d55e5566",
   "metadata": {},
   "outputs": [],
   "source": []
  }
 ],
 "metadata": {
  "kernelspec": {
   "display_name": "Python 3 (ipykernel)",
   "language": "python",
   "name": "python3"
  },
  "language_info": {
   "codemirror_mode": {
    "name": "ipython",
    "version": 3
   },
   "file_extension": ".py",
   "mimetype": "text/x-python",
   "name": "python",
   "nbconvert_exporter": "python",
   "pygments_lexer": "ipython3",
   "version": "3.11.4"
  }
 },
 "nbformat": 4,
 "nbformat_minor": 5
}
