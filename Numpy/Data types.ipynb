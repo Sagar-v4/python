{
 "cells": [
  {
   "cell_type": "markdown",
   "id": "27f40575",
   "metadata": {},
   "source": [
    "# Data types\n",
    "\n",
    "1. bool_ : Booleans (True, False)\n",
    "2. int_ : Default int type (same as C long; int64 or int32)\n",
    "3. intc : C int (int 32 or int64)\n",
    "4. intp : integer used for indexing (C ssize_t: 32 or 64)\n",
    "5. int8 : Byte (-128 to 127)\n",
    "6. int16 : Integer (-32768 to 32767)\n",
    "7. int32 : integer (-2147... to 2147...)\n",
    "8. int64 : integer (-92233... to 92233...)\n",
    "9. uint8 : Unsigned integer (0 to 255)\n",
    "10. uint16 : Unsigned integer (0 to 65535)\n",
    "11. uint32 : Unsigned integer (0 to 42949...)\n",
    "12. uint64 : Unsigned integer (0 to 18446...)\n",
    "13. float_ : Shorthand for float64\n",
    "14. float16 : Half pricision float: sign bit, 5 bits exponent, 10 bits mantissa\n",
    "15. float32 : Single pricision float: sign bit, 8 bits exponent, 10 bits mantissa\n",
    "16. float64 : Double pricision float: sign bit, 11 bits exponent, 10 bits mantissa\n",
    "17. complex_ : Shorthand for complex128 \n",
    "18. complex64 : 32 bit float (real and imaginary components)\n",
    "19. complex128 : 64 bit float (real and imaginary components)"
   ]
  },
  {
   "cell_type": "code",
   "execution_count": 1,
   "id": "2a22bb0d",
   "metadata": {},
   "outputs": [],
   "source": [
    "import numpy as np"
   ]
  },
  {
   "cell_type": "code",
   "execution_count": 6,
   "id": "45a5437a",
   "metadata": {},
   "outputs": [
    {
     "name": "stdout",
     "output_type": "stream",
     "text": [
      "[1, 2, 3] \t: \tint64\n",
      "[1.1, 2.2] \t: \tfloat64\n",
      "['a', 'b'] \t: \t<U1\n",
      "['abc', 'def'] \t: \t<U3\n",
      "[1, 1.5] \t: \tfloat64\n",
      "[1, 'abc'] \t: \t<U21\n",
      "[1.1, 'a'] \t: \t<U32\n",
      "[1.1, 'abc'] \t: \t<U32\n",
      "['a', 'abc'] \t: \t<U3\n"
     ]
    }
   ],
   "source": [
    "dataTypes = [\n",
    "    [1, 2, 3],\n",
    "    [1.1, 2.2],\n",
    "    ['a', 'b'],\n",
    "    [\"abc\", \"def\"],\n",
    "    [1, 1.5],\n",
    "#     [1, 'a']\n",
    "    [1, \"abc\"],\n",
    "    [1.1, 'a'],\n",
    "    [1.1, \"abc\"],\n",
    "    ['a', \"abc\"]\n",
    "]\n",
    "\n",
    "for data in dataTypes:\n",
    "    arr = np.array(data)\n",
    "    print(f\"{data} \\t: \\t{arr.dtype}\")"
   ]
  },
  {
   "cell_type": "markdown",
   "id": "66c49168",
   "metadata": {},
   "source": [
    "# Data type alias\n",
    "\n",
    "1. i - integer\n",
    "2. b - boolean\n",
    "3. u - unsigned integer\n",
    "4. f - float\n",
    "5. c - complex float\n",
    "6. m - timedelta\n",
    "7. M - datetime\n",
    "8. O - object\n",
    "9. S - string\n",
    "10. U - unicode string\n",
    "11. V - fixed chunk of memory for other types (void)"
   ]
  },
  {
   "cell_type": "code",
   "execution_count": 14,
   "id": "94d763cb",
   "metadata": {},
   "outputs": [
    {
     "name": "stdout",
     "output_type": "stream",
     "text": [
      "[1 2 3] : int8\n",
      "[1 2 3] : int16\n",
      "[1 2 3] : int32\n",
      "[1 2 3] : int64\n",
      "[1 2 3] : uint8\n",
      "[1 2 3] : uint16\n",
      "[1 2 3] : uint32\n",
      "[1 2 3] : uint64\n",
      "[1. 2. 3.] : float32\n",
      "[1. 2. 3.] : float64\n",
      "[1 2 3] : int32\n",
      "[1. 2. 3.] : float32\n",
      "[b'1' b'2' b'3'] : |S1\n",
      "[1 2 3] : object\n"
     ]
    }
   ],
   "source": [
    "# np.dataType is function so can use individually\n",
    "\n",
    "dataTypesShorAndLong = [\n",
    "    np.int8,\n",
    "    np.int16,\n",
    "    np.int32,\n",
    "    np.int64,\n",
    "    np.uint8,\n",
    "    np.uint16,\n",
    "    np.uint32,\n",
    "    np.uint64, \n",
    "    np.float32,    \n",
    "    np.float64,\n",
    "    \"i\",\n",
    "    \"f\",\n",
    "    \"S\",\n",
    "    \"O\"   \n",
    "]\n",
    "\n",
    "for dataType in dataTypesShorAndLong:\n",
    "    arr = np.array([1, 2, 3], dtype = dataType)\n",
    "    print(f\"{arr} : {arr.dtype}\")"
   ]
  },
  {
   "cell_type": "code",
   "execution_count": 16,
   "id": "b1b6ac6d",
   "metadata": {},
   "outputs": [
    {
     "name": "stdout",
     "output_type": "stream",
     "text": [
      "[1. 2. 3.] : float32\n"
     ]
    }
   ],
   "source": [
    "arrConvert = np.array([1, 2, 3])\n",
    "arrConvert = np.float32(arrConvert)\n",
    "\n",
    "print(f\"{arrConvert} : {arrConvert.dtype}\")"
   ]
  },
  {
   "cell_type": "code",
   "execution_count": null,
   "id": "0f85ee5c",
   "metadata": {},
   "outputs": [],
   "source": [
    "arrConvert = np.float32(arrConvert)\n",
    "\n",
    "print(f\"{arrConvert} : {arrConvert.dtype}\")"
   ]
  }
 ],
 "metadata": {
  "kernelspec": {
   "display_name": "Python 3 (ipykernel)",
   "language": "python",
   "name": "python3"
  },
  "language_info": {
   "codemirror_mode": {
    "name": "ipython",
    "version": 3
   },
   "file_extension": ".py",
   "mimetype": "text/x-python",
   "name": "python",
   "nbconvert_exporter": "python",
   "pygments_lexer": "ipython3",
   "version": "3.11.4"
  }
 },
 "nbformat": 4,
 "nbformat_minor": 5
}
