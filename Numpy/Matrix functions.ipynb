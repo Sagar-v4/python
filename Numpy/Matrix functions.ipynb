{
 "cells": [
  {
   "cell_type": "code",
   "execution_count": 1,
   "id": "012c0b34",
   "metadata": {},
   "outputs": [],
   "source": [
    "import numpy as np"
   ]
  },
  {
   "cell_type": "markdown",
   "id": "e175a2ae",
   "metadata": {},
   "source": [
    "# Matrix\n",
    "\n",
    "    1. Matrix vs Array\n",
    "    2. operations like +, -, / works same\n",
    "    3. * = dot() works with matrix"
   ]
  },
  {
   "cell_type": "code",
   "execution_count": 5,
   "id": "42d0216c",
   "metadata": {},
   "outputs": [
    {
     "name": "stdout",
     "output_type": "stream",
     "text": [
      "<class 'numpy.matrix'>\n",
      "[[1 2 3]\n",
      " [4 5 6]\n",
      " [7 8 9]]\n",
      "<class 'numpy.ndarray'>\n",
      "[[1 2 3]\n",
      " [4 5 6]\n",
      " [7 8 9]]\n"
     ]
    }
   ],
   "source": [
    "# matrix VS Array\n",
    "\n",
    "data = [[1, 2, 3], [4, 5, 6], [7, 8, 9]]\n",
    "\n",
    "mat = np.matrix(data)\n",
    "arr = np.array(data)\n",
    "\n",
    "print(f\"{type(mat)}\\n{mat}\")\n",
    "print(f\"{type(arr)}\\n{arr}\")"
   ]
  },
  {
   "cell_type": "code",
   "execution_count": 10,
   "id": "2ac8f506",
   "metadata": {},
   "outputs": [
    {
     "name": "stdout",
     "output_type": "stream",
     "text": [
      "[[ 2  4  6]\n",
      " [ 8 10 12]\n",
      " [14 16 18]]\n",
      "[[0 0 0]\n",
      " [0 0 0]\n",
      " [0 0 0]]\n",
      "[[1. 1. 1.]\n",
      " [1. 1. 1.]\n",
      " [1. 1. 1.]]\n",
      "[[ 30  36  42]\n",
      " [ 66  81  96]\n",
      " [102 126 150]]\n",
      "[[ 30  36  42]\n",
      " [ 66  81  96]\n",
      " [102 126 150]]\n"
     ]
    }
   ],
   "source": [
    "# +, -, / , *, dot()\n",
    "\n",
    "data = [[1, 2, 3], [4, 5, 6], [7, 8, 9]]\n",
    "\n",
    "mat1 = np.matrix(data)\n",
    "mat2 = np.matrix(data)\n",
    "\n",
    "print(mat1 + mat2)\n",
    "print(mat1 - mat2)\n",
    "print(mat1 / mat2)\n",
    "print(mat1 * mat2)\n",
    "print(mat1.dot(mat2))"
   ]
  },
  {
   "cell_type": "markdown",
   "id": "ad697f0c",
   "metadata": {},
   "source": [
    "# Functions\n",
    "\n",
    "    1. Transpose\n",
    "    2. Swapaxes\n",
    "    3. Inverse\n",
    "    4. power\n",
    "    5. Determinate"
   ]
  },
  {
   "cell_type": "code",
   "execution_count": 13,
   "id": "cf3b4c0e",
   "metadata": {},
   "outputs": [
    {
     "name": "stdout",
     "output_type": "stream",
     "text": [
      "Original: \n",
      "[[1 2 3]\n",
      " [4 5 6]\n",
      " [7 8 9]]\n",
      "Transpose: \n",
      "[[1 4 7]\n",
      " [2 5 8]\n",
      " [3 6 9]]\n",
      "Transpose: \n",
      "[[1 4 7]\n",
      " [2 5 8]\n",
      " [3 6 9]]\n"
     ]
    }
   ],
   "source": [
    "# Transpose\n",
    "\n",
    "data = [[1, 2, 3], [4, 5, 6], [7, 8, 9]]\n",
    "\n",
    "mat = np.matrix(data)\n",
    "print(f\"Original: \\n{mat}\")\n",
    "\n",
    "ans = np.transpose(mat)\n",
    "print(f\"Transpose: \\n{ans}\")\n",
    "\n",
    "ans = mat.T\n",
    "print(f\"Transpose: \\n{ans}\")"
   ]
  },
  {
   "cell_type": "code",
   "execution_count": 18,
   "id": "f9dec513",
   "metadata": {},
   "outputs": [
    {
     "name": "stdout",
     "output_type": "stream",
     "text": [
      "Original: \n",
      "[[1 2 3]\n",
      " [4 5 6]\n",
      " [7 8 9]]\n",
      "Swap axex: \n",
      "[[1 4 7]\n",
      " [2 5 8]\n",
      " [3 6 9]]\n"
     ]
    }
   ],
   "source": [
    "# Swap axes\n",
    "\n",
    "data = [[1, 2, 3], [4, 5, 6], [7, 8, 9]]\n",
    "\n",
    "mat = np.matrix(data)\n",
    "print(f\"Original: \\n{mat}\")\n",
    "\n",
    "ans = np.swapaxes(mat, 0, 1)\n",
    "print(f\"Swap axex: \\n{ans}\")"
   ]
  },
  {
   "cell_type": "code",
   "execution_count": 27,
   "id": "6a4a17a6",
   "metadata": {},
   "outputs": [
    {
     "name": "stdout",
     "output_type": "stream",
     "text": [
      "Original: \n",
      "[[1 2]\n",
      " [3 4]]\n",
      "Inverse: \n",
      "[[-2.   1. ]\n",
      " [ 1.5 -0.5]]\n"
     ]
    }
   ],
   "source": [
    "# inverse\n",
    "\n",
    "data = [[1, 2], [3, 4]]\n",
    "\n",
    "mat = np.matrix(data)\n",
    "print(f\"Original: \\n{mat}\")\n",
    "\n",
    "ans = np.linalg.inv(mat)\n",
    "print(f\"Inverse: \\n{ans}\")"
   ]
  },
  {
   "cell_type": "code",
   "execution_count": 31,
   "id": "f4f06d3f",
   "metadata": {},
   "outputs": [
    {
     "name": "stdout",
     "output_type": "stream",
     "text": [
      "Original: \n",
      "[[1 2]\n",
      " [3 4]]\n",
      "Power: \n",
      "[[ 1  4]\n",
      " [ 9 16]]\n",
      "Power: \n",
      "[[ 7 10]\n",
      " [15 22]]\n",
      "Power: \n",
      "[[1 0]\n",
      " [0 1]]\n",
      "Power: \n",
      "[[ 5.5  -2.5 ]\n",
      " [-3.75  1.75]]\n"
     ]
    }
   ],
   "source": [
    "# power\n",
    "\n",
    "data = [[1, 2], [3, 4]]\n",
    "\n",
    "mat = np.matrix(data)\n",
    "print(f\"Original: \\n{mat}\")\n",
    "\n",
    "power = 2\n",
    "ans = np.power(mat, power)\n",
    "print(f\"Power: \\n{ans}\")\n",
    "\n",
    "power = 2\n",
    "ans = np.linalg.matrix_power(mat, power)\n",
    "print(f\"Power: \\n{ans}\")\n",
    "\n",
    "power = 0\n",
    "ans = np.linalg.matrix_power(mat, power)\n",
    "print(f\"Power: \\n{ans}\")\n",
    "\n",
    "power = -2\n",
    "ans = np.linalg.matrix_power(mat, power)\n",
    "print(f\"Power: \\n{ans}\")"
   ]
  },
  {
   "cell_type": "code",
   "execution_count": 34,
   "id": "f0f76099",
   "metadata": {},
   "outputs": [
    {
     "name": "stdout",
     "output_type": "stream",
     "text": [
      "Original: \n",
      "[[1 2 3]\n",
      " [4 5 6]\n",
      " [7 8 9]]\n",
      "Determinate: \n",
      "-9.51619735392994e-16\n"
     ]
    }
   ],
   "source": [
    "# Determinate\n",
    "\n",
    "data = [[1, 2, 3], [4, 5, 6], [7, 8, 9]]\n",
    "# data = [[1, 2], [3, 4]]\n",
    "\n",
    "mat = np.matrix(data)\n",
    "print(f\"Original: \\n{mat}\")\n",
    "\n",
    "ans = np.linalg.det(mat)\n",
    "print(f\"Determinate: \\n{ans}\")"
   ]
  },
  {
   "cell_type": "code",
   "execution_count": null,
   "id": "195c46fd",
   "metadata": {},
   "outputs": [],
   "source": []
  }
 ],
 "metadata": {
  "kernelspec": {
   "display_name": "Python 3 (ipykernel)",
   "language": "python",
   "name": "python3"
  },
  "language_info": {
   "codemirror_mode": {
    "name": "ipython",
    "version": 3
   },
   "file_extension": ".py",
   "mimetype": "text/x-python",
   "name": "python",
   "nbconvert_exporter": "python",
   "pygments_lexer": "ipython3",
   "version": "3.11.4"
  }
 },
 "nbformat": 4,
 "nbformat_minor": 5
}
