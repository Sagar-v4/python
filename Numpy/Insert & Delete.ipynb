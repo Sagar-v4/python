{
 "cells": [
  {
   "cell_type": "code",
   "execution_count": 1,
   "id": "2d7698d8",
   "metadata": {},
   "outputs": [],
   "source": [
    "import numpy as np"
   ]
  },
  {
   "cell_type": "markdown",
   "id": "0ed133da",
   "metadata": {},
   "source": [
    "# Insert(array, pos, val, axis)"
   ]
  },
  {
   "cell_type": "code",
   "execution_count": 8,
   "id": "bd9a8799",
   "metadata": {},
   "outputs": [
    {
     "name": "stdout",
     "output_type": "stream",
     "text": [
      "Original: [1 2 3]\n",
      "100 inserted at 1: [  1 100   2   3]\n",
      "10 inserted at (0, 2): [10  1  2 10  3]\n"
     ]
    }
   ],
   "source": [
    "# 1D\n",
    "\n",
    "data = [1, 2, 3]\n",
    "\n",
    "arr = np.array(data)\n",
    "print(f\"Original: {arr}\")\n",
    "\n",
    "pos = 1\n",
    "val = 100\n",
    "ans = np.insert(arr, pos, val)\n",
    "print(f\"{val} inserted at {pos}: {ans}\")\n",
    "\n",
    "pos = (0, 2)\n",
    "val = 10\n",
    "ans = np.insert(arr, pos, val)\n",
    "print(f\"{val} inserted at {pos}: {ans}\")"
   ]
  },
  {
   "cell_type": "code",
   "execution_count": 16,
   "id": "3ec0a66b",
   "metadata": {},
   "outputs": [
    {
     "name": "stdout",
     "output_type": "stream",
     "text": [
      "Original: \n",
      "[[1 2 3]\n",
      " [4 5 6]\n",
      " [7 8 9]]\n",
      "100 inserted at 2: \n",
      "[[  1   2   3]\n",
      " [  4   5   6]\n",
      " [100 100 100]\n",
      " [  7   8   9]]\n",
      "100 inserted at 1: \n",
      "[[  1 100   2   3]\n",
      " [  4 100   5   6]\n",
      " [  7 100   8   9]]\n",
      "[100, 200, 300] inserted at 2: \n",
      "[[  1   2   3]\n",
      " [  4   5   6]\n",
      " [100 200 300]\n",
      " [  7   8   9]]\n",
      "[100, 200, 300] inserted at 1: \n",
      "[[  1 100   2   3]\n",
      " [  4 200   5   6]\n",
      " [  7 300   8   9]]\n"
     ]
    }
   ],
   "source": [
    "# 2D\n",
    "\n",
    "data = [[1, 2, 3], [4, 5, 6], [7, 8, 9]]\n",
    "\n",
    "arr = np.array(data)\n",
    "print(f\"Original: \\n{arr}\")\n",
    "\n",
    "pos = 2\n",
    "val = 100\n",
    "ans = np.insert(arr, pos, val, axis = 0)\n",
    "print(f\"{val} inserted at {pos}: \\n{ans}\")\n",
    "\n",
    "pos = 1\n",
    "val = 100\n",
    "ans = np.insert(arr, pos, val, axis = 1)\n",
    "print(f\"{val} inserted at {pos}: \\n{ans}\")\n",
    "\n",
    "pos = 2\n",
    "val = [100, 200, 300]\n",
    "ans = np.insert(arr, pos, val, axis = 0)\n",
    "print(f\"{val} inserted at {pos}: \\n{ans}\")\n",
    "\n",
    "pos = 1\n",
    "val = [100, 200, 300]\n",
    "ans = np.insert(arr, pos, val, axis = 1)\n",
    "print(f\"{val} inserted at {pos}: \\n{ans}\")"
   ]
  },
  {
   "cell_type": "markdown",
   "id": "82a4cda0",
   "metadata": {},
   "source": [
    "# Append(array, value, axis)\n",
    "    \n",
    "    Append val at the end of array"
   ]
  },
  {
   "cell_type": "code",
   "execution_count": 22,
   "id": "c3103468",
   "metadata": {},
   "outputs": [
    {
     "name": "stdout",
     "output_type": "stream",
     "text": [
      "Original: [1 2 3]\n",
      "100 appended at the end: [  1   2   3 100]\n",
      "[10, 20] appended at the end: [ 1  2  3 10 20]\n"
     ]
    }
   ],
   "source": [
    "# 1D\n",
    "\n",
    "data = [1, 2, 3]\n",
    "\n",
    "arr = np.array(data)\n",
    "print(f\"Original: {arr}\")\n",
    "\n",
    "val = 100\n",
    "ans = np.append(arr, val)\n",
    "print(f\"{val} appended at the end: {ans}\")\n",
    "\n",
    "val = [10, 20]\n",
    "ans = np.append(arr, val)\n",
    "print(f\"{val} appended at the end: {ans}\")"
   ]
  },
  {
   "cell_type": "code",
   "execution_count": 35,
   "id": "445d830b",
   "metadata": {},
   "outputs": [
    {
     "name": "stdout",
     "output_type": "stream",
     "text": [
      "Original: [[1 2 3]\n",
      " [4 5 6]\n",
      " [7 8 9]]\n",
      "[[100, 200, 300]] appended at the end row: \n",
      "[[  1   2   3]\n",
      " [  4   5   6]\n",
      " [  7   8   9]\n",
      " [100 200 300]]\n",
      "[[10], [20], [30]] appended at the end col: \n",
      "[[ 1  2  3 10]\n",
      " [ 4  5  6 20]\n",
      " [ 7  8  9 30]]\n"
     ]
    }
   ],
   "source": [
    "# 2D\n",
    "\n",
    "data = [[1, 2, 3], [4, 5, 6], [7, 8, 9]]\n",
    "\n",
    "arr = np.array(data)\n",
    "print(f\"Original: {arr}\")\n",
    "\n",
    "val = [[100, 200, 300]]\n",
    "ans = np.append(arr, val, axis = 0)\n",
    "print(f\"{val} appended at the end row: \\n{ans}\")\n",
    "\n",
    "val = [[10], [20], [30]]\n",
    "ans = np.append(arr, val, axis = 1)\n",
    "print(f\"{val} appended at the end col: \\n{ans}\")"
   ]
  },
  {
   "cell_type": "markdown",
   "id": "b491ec04",
   "metadata": {},
   "source": [
    "# Delete(array, index, axis)"
   ]
  },
  {
   "cell_type": "code",
   "execution_count": 40,
   "id": "22a484f1",
   "metadata": {},
   "outputs": [
    {
     "name": "stdout",
     "output_type": "stream",
     "text": [
      "Original: [10 20 30 40 50]\n",
      "20 value Deleted: [10 30 40 50]\n",
      "[20 30] value Deleted: [10 40 50]\n"
     ]
    }
   ],
   "source": [
    "# 1D\n",
    "\n",
    "data = [10, 20, 30, 40, 50]\n",
    "\n",
    "arr = np.array(data)\n",
    "print(f\"Original: {arr}\")\n",
    "\n",
    "ind = 1\n",
    "ans = np.delete(arr, ind)\n",
    "print(f\"{arr[ind]} value Deleted: {ans}\")\n",
    "\n",
    "ind = [1, 2]\n",
    "ans = np.delete(arr, ind)\n",
    "print(f\"{arr[ind]} value Deleted: {ans}\")"
   ]
  },
  {
   "cell_type": "code",
   "execution_count": 46,
   "id": "5152e3bb",
   "metadata": {},
   "outputs": [
    {
     "name": "stdout",
     "output_type": "stream",
     "text": [
      "Original: \n",
      "[[10 20]\n",
      " [30 40]\n",
      " [50 60]]\n",
      "[30 40] value Deleted: \n",
      "[[10 20]\n",
      " [50 60]]\n",
      "[30 40] value Deleted: \n",
      "[[10]\n",
      " [30]\n",
      " [50]]\n"
     ]
    }
   ],
   "source": [
    "# 2D\n",
    "\n",
    "data = [[10, 20], [30, 40], [50, 60]]\n",
    "\n",
    "arr = np.array(data)\n",
    "print(f\"Original: \\n{arr}\")\n",
    "\n",
    "ind = 1\n",
    "ans = np.delete(arr, ind, axis = 0)\n",
    "print(f\"{arr[ind]} value Deleted: \\n{ans}\")\n",
    "\n",
    "ind = 1\n",
    "ans = np.delete(arr, ind, axis = 1)\n",
    "print(f\"{arr[]} value Deleted: \\n{ans}\")"
   ]
  },
  {
   "cell_type": "code",
   "execution_count": null,
   "id": "1760332f",
   "metadata": {},
   "outputs": [],
   "source": []
  }
 ],
 "metadata": {
  "kernelspec": {
   "display_name": "Python 3 (ipykernel)",
   "language": "python",
   "name": "python3"
  },
  "language_info": {
   "codemirror_mode": {
    "name": "ipython",
    "version": 3
   },
   "file_extension": ".py",
   "mimetype": "text/x-python",
   "name": "python",
   "nbconvert_exporter": "python",
   "pygments_lexer": "ipython3",
   "version": "3.11.4"
  }
 },
 "nbformat": 4,
 "nbformat_minor": 5
}
