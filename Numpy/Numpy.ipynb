{
 "cells": [
  {
   "cell_type": "code",
   "execution_count": 1,
   "id": "42d8bb31",
   "metadata": {},
   "outputs": [],
   "source": [
    "import numpy as np"
   ]
  },
  {
   "cell_type": "code",
   "execution_count": 4,
   "id": "1acb33f2",
   "metadata": {},
   "outputs": [
    {
     "name": "stdout",
     "output_type": "stream",
     "text": [
      "List: [1, 2, 3, 4], data type <class 'list'>\n",
      "Array: [1 2 3 4], data type <class 'numpy.ndarray'>\n"
     ]
    }
   ],
   "source": [
    " # Difference between list and array\n",
    "    \n",
    "lst = [1, 2, 3, 4]\n",
    "arr = np.array(lst)\n",
    "\n",
    "print(f\"List: {lst}, data type {type(lst)}\")  # Comma separated\n",
    "print(f\"Array: {arr}, data type {type(arr)}\") # No commas"
   ]
  },
  {
   "cell_type": "markdown",
   "id": "addff886",
   "metadata": {},
   "source": [
    "# Basic difference List vs Array\n",
    "\n",
    "### 1. Data types storage\n",
    "    1. List ['a', \"abc\", a, a.5, True]\n",
    "    2. Array Only 1 type of data [1, 2], ['a', 'b']\n",
    "    \n",
    "### 2. Import module\n",
    "    1. inbuilt so, not needed\n",
    "    2. import numpy as np\n",
    "    \n",
    "### 3. Numerical operation\n",
    "    1. Capable but less efficiency\n",
    "    2. Fast, capable, more efficient, can convert to matrix\n",
    "    \n",
    "### 4. Modification capabilities\n",
    "    1. Fast, more functions available\n",
    "    2. Slow comparing list, not much functions available\n",
    "    \n",
    "### 5. Memory\n",
    "    1. More\n",
    "    2. Less\n",
    "    \n",
    "### 6. Speed\n",
    "    1. Slow\n",
    "    2. Fast\n",
    "    \n",
    "### 7. Convenient to use\n",
    "    1. Not as numpay array\n",
    "    2. Fast & easy\n",
    "    "
   ]
  },
  {
   "cell_type": "markdown",
   "id": "baa93c4c",
   "metadata": {},
   "source": [
    "# Check time of executions for both\n",
    "\n",
    "1. for 1 line -%time\n",
    "2. for full progrm - %%timeit"
   ]
  },
  {
   "cell_type": "code",
   "execution_count": 13,
   "id": "c2f9d7cc",
   "metadata": {},
   "outputs": [
    {
     "name": "stdout",
     "output_type": "stream",
     "text": [
      "List: \n",
      "341 ns ± 2.09 ns per loop (mean ± std. dev. of 7 runs, 1,000,000 loops each)\n",
      "Array: \n",
      "820 ns ± 14.4 ns per loop (mean ± std. dev. of 7 runs, 1,000,000 loops each)\n"
     ]
    }
   ],
   "source": [
    "# Time comparision\n",
    "\n",
    "print(\"List: \")\n",
    "%timeit [i ** 4 for i in range(1, 9)]\n",
    "\n",
    "print(\"Array: \")\n",
    "%timeit np.arange(1, 9) ** 4"
   ]
  },
  {
   "cell_type": "markdown",
   "id": "efb7962c",
   "metadata": {},
   "source": [
    "# Create n dimension Array in Numpy"
   ]
  },
  {
   "cell_type": "code",
   "execution_count": 23,
   "id": "470eae8a",
   "metadata": {},
   "outputs": [
    {
     "name": "stdout",
     "output_type": "stream",
     "text": [
      "Enter dimentions: 3\n",
      "Dimensions: 3\n",
      "Array with 3 dimensions: [[[1 2 3]]]\n",
      "[1 2 3]\n",
      "[[1 2 3]]\n",
      "[[[1 2 3]]]\n"
     ]
    }
   ],
   "source": [
    "dimensions = int(input(\"Enter dimentions: \"))\n",
    "\n",
    "arrDimension = np.array([1,2,3], ndmin = dimensions)\n",
    "print(f\"Dimensions: {arrDimension.ndim}\")\n",
    "print(f\"Array with {dimensions} dimensions: {arrDimension}\")\n",
    "\n",
    "# create manually\n",
    "\n",
    "print(np.array([1,2,3])) # 1D\n",
    "print(np.array([[1,2,3]])) # 2D\n",
    "print(np.array([[[1,2,3]]])) # 3D"
   ]
  },
  {
   "cell_type": "markdown",
   "id": "1dcc9394",
   "metadata": {},
   "source": [
    "# Special Numpy Array's"
   ]
  },
  {
   "cell_type": "code",
   "execution_count": 32,
   "id": "336ae98f",
   "metadata": {},
   "outputs": [
    {
     "name": "stdout",
     "output_type": "stream",
     "text": [
      "[0. 0. 0. 0.]\n",
      "[[0. 0. 0.]\n",
      " [0. 0. 0.]]\n"
     ]
    }
   ],
   "source": [
    "# Array filld with 0's\n",
    "\n",
    "arr_zeros_1d = np.zeros(4)\n",
    "arr_zeros_2d = np.zeros((2,3))\n",
    "\n",
    "print(arr_zeros_1d)\n",
    "print(arr_zeros_2d)"
   ]
  },
  {
   "cell_type": "code",
   "execution_count": 30,
   "id": "8f715f0f",
   "metadata": {},
   "outputs": [
    {
     "name": "stdout",
     "output_type": "stream",
     "text": [
      "[1. 1. 1. 1.]\n",
      "[[1. 1. 1.]\n",
      " [1. 1. 1.]]\n"
     ]
    }
   ],
   "source": [
    "# Array filld with 1's\n",
    "\n",
    "arr_ones_1d = np.ones(4)\n",
    "arr_ones_2d = np.ones((2,3))\n",
    "\n",
    "print(arr_ones_1d)\n",
    "print(arr_ones_2d)"
   ]
  },
  {
   "cell_type": "code",
   "execution_count": 35,
   "id": "9ca7b4c7",
   "metadata": {},
   "outputs": [
    {
     "name": "stdout",
     "output_type": "stream",
     "text": [
      "[0. 0. 0. 0.]\n",
      "[[0. 0. 0.]\n",
      " [0. 0. 0.]]\n"
     ]
    }
   ],
   "source": [
    "# Empty array\n",
    "# Default values are previous memory value\n",
    "# execute 1's block then empty will give 1 values\n",
    "# execute 0's block then empty will give 0 values\n",
    "\n",
    "arr_empty_1d = np.empty(4)\n",
    "arr_empty_2d = np.empty((2,3))\n",
    "\n",
    "print(arr_empty_1d)\n",
    "print(arr_empty_2d)"
   ]
  },
  {
   "cell_type": "code",
   "execution_count": 37,
   "id": "e07ef421",
   "metadata": {},
   "outputs": [
    {
     "name": "stdout",
     "output_type": "stream",
     "text": [
      "[0 1 2 3]\n"
     ]
    }
   ],
   "source": [
    "# Range array\n",
    "\n",
    "arr_arange_1d = np.arange(4)\n",
    "\n",
    "print(arr_arange_1d)"
   ]
  },
  {
   "cell_type": "code",
   "execution_count": 40,
   "id": "32cb9b8b",
   "metadata": {},
   "outputs": [
    {
     "name": "stdout",
     "output_type": "stream",
     "text": [
      "[[1. 0. 0. 0.]\n",
      " [0. 1. 0. 0.]\n",
      " [0. 0. 1. 0.]\n",
      " [0. 0. 0. 1.]]\n",
      "[[1. 0. 0.]\n",
      " [0. 1. 0.]]\n"
     ]
    }
   ],
   "source": [
    "# Diagonal array filld with 1's\n",
    "\n",
    "arr_diagonal_n_by_n = np.eye(4)\n",
    "arr_diagonal_m_by_n = np.eye(2,3)\n",
    "\n",
    "print(arr_diagonal_n_by_n)\n",
    "print(arr_diagonal_m_by_n)"
   ]
  },
  {
   "cell_type": "code",
   "execution_count": 47,
   "id": "d568a4eb",
   "metadata": {},
   "outputs": [
    {
     "name": "stdout",
     "output_type": "stream",
     "text": [
      "[ 0.  2.  4.  6.  8. 10. 12.]\n"
     ]
    }
   ],
   "source": [
    "# Array filld with values that are spaced linearly in a specified interval gap\n",
    "\n",
    "arr_linspace_1d = np.linspace(0, 12, num = 7)\n",
    "\n",
    "print(arr_linspace_1d)"
   ]
  },
  {
   "cell_type": "markdown",
   "id": "c95428bd",
   "metadata": {},
   "source": [
    "# Create Numpy Array's with Random Numbers"
   ]
  },
  {
   "cell_type": "code",
   "execution_count": 57,
   "id": "3ea0f2c3",
   "metadata": {},
   "outputs": [
    {
     "name": "stdout",
     "output_type": "stream",
     "text": [
      "[0.66440186 0.33168875 0.3919262  0.93763625]\n",
      "[[0.8415692  0.65411072 0.85592915]\n",
      " [0.96593481 0.97611719 0.29254862]]\n"
     ]
    }
   ],
   "source": [
    "# rand() - generates number between 0 to 1 (positive only)\n",
    "\n",
    "arr_rand_1d = np.random.rand(4)\n",
    "arr_rand_2d = np.random.rand(2, 3)\n",
    "\n",
    "print(arr_rand_1d)\n",
    "print(arr_rand_2d)"
   ]
  },
  {
   "cell_type": "code",
   "execution_count": 60,
   "id": "e87269c1",
   "metadata": {},
   "outputs": [
    {
     "name": "stdout",
     "output_type": "stream",
     "text": [
      "[ 0.3981524  -0.22502283  0.75984889  1.24998108]\n",
      "[[-0.03640987 -0.78210224 -1.10752287]\n",
      " [-0.3195955  -1.16142857 -0.54389915]]\n"
     ]
    }
   ],
   "source": [
    "# randn() - generates number close to 0 (positive & negative)\n",
    "\n",
    "arr_randn_1d = np.random.randn(4)\n",
    "arr_randn_2d = np.random.randn(2, 3)\n",
    "\n",
    "print(arr_randn_1d)\n",
    "print(arr_randn_2d)"
   ]
  },
  {
   "cell_type": "code",
   "execution_count": 62,
   "id": "ed75d4ff",
   "metadata": {},
   "outputs": [
    {
     "name": "stdout",
     "output_type": "stream",
     "text": [
      "[0.86543427 0.58435556 0.11256264 0.87380781]\n"
     ]
    }
   ],
   "source": [
    "# ranf() - generates number between 0.0 to 1.0 (positive & 1.0 not included)\n",
    "\n",
    "arr_ranf_1d = np.random.ranf(4)\n",
    "\n",
    "print(arr_ranf_1d)"
   ]
  },
  {
   "cell_type": "code",
   "execution_count": 66,
   "id": "7f525c0b",
   "metadata": {},
   "outputs": [
    {
     "name": "stdout",
     "output_type": "stream",
     "text": [
      "[15 73 84 75]\n"
     ]
    }
   ],
   "source": [
    "# randint() - generates number in between min to max\n",
    "\n",
    "arr_randint_1d = np.random.randint(1, 100, 4) # min, max, total_values\n",
    "\n",
    "print(arr_randint_1d)"
   ]
  },
  {
   "cell_type": "code",
   "execution_count": null,
   "id": "29ddfcba",
   "metadata": {},
   "outputs": [],
   "source": []
  }
 ],
 "metadata": {
  "kernelspec": {
   "display_name": "Python 3 (ipykernel)",
   "language": "python",
   "name": "python3"
  },
  "language_info": {
   "codemirror_mode": {
    "name": "ipython",
    "version": 3
   },
   "file_extension": ".py",
   "mimetype": "text/x-python",
   "name": "python",
   "nbconvert_exporter": "python",
   "pygments_lexer": "ipython3",
   "version": "3.11.4"
  }
 },
 "nbformat": 4,
 "nbformat_minor": 5
}
