{
 "cells": [
  {
   "cell_type": "code",
   "execution_count": 1,
   "id": "8af8dad6",
   "metadata": {},
   "outputs": [],
   "source": [
    "import pandas as pd"
   ]
  },
  {
   "cell_type": "markdown",
   "id": "41ab17a5",
   "metadata": {},
   "source": [
    "# DataFrame\n",
    "\n",
    "    1. 2D data structure\n",
    "    2. Created with list & dictionary both"
   ]
  },
  {
   "cell_type": "code",
   "execution_count": 6,
   "id": "4afef00a",
   "metadata": {},
   "outputs": [
    {
     "name": "stdout",
     "output_type": "stream",
     "text": [
      "<class 'pandas.core.frame.DataFrame'>\n",
      "   a  b\n",
      "0  1  4\n",
      "1  2  5\n",
      "2  3  6\n"
     ]
    }
   ],
   "source": [
    "# data = [1, 2, 3, 4] # 1D list\n",
    "# data = [[1, 2], [3, 4]] # 2D list\n",
    "data = {\"a\": [1, 2, 3], \"b\": [4, 5, 6]} # dictionary\n",
    "\n",
    "df = pd.DataFrame(data)\n",
    "\n",
    "print(type(df))\n",
    "print(df)"
   ]
  },
  {
   "cell_type": "code",
   "execution_count": 12,
   "id": "223ba186",
   "metadata": {},
   "outputs": [
    {
     "name": "stdout",
     "output_type": "stream",
     "text": [
      "     a  abc\n",
      "i    1  123\n",
      "ii   2  456\n",
      "iii  3  789\n"
     ]
    }
   ],
   "source": [
    "# Specific rows & cols\n",
    "\n",
    "data = {\"a\": [1, 2, 3], \"b\": [4, 5, 6], \"abc\": [123, 456, 789]} # dictionary\n",
    "\n",
    "df = pd.DataFrame(data, columns = [\"a\", \"abc\"], index = [\"i\", \"ii\", \"iii\"])\n",
    "\n",
    "print(df)"
   ]
  },
  {
   "cell_type": "code",
   "execution_count": 14,
   "id": "c63f74a2",
   "metadata": {},
   "outputs": [
    {
     "name": "stdout",
     "output_type": "stream",
     "text": [
      "456\n"
     ]
    }
   ],
   "source": [
    "# Get specific value\n",
    "\n",
    "data = {\"a\": [1, 2, 3], \"b\": [4, 5, 6], \"abc\": [123, 456, 789]} # dictionary\n",
    "\n",
    "df = pd.DataFrame(data, columns = [\"a\", \"abc\"], index = [\"i\", \"ii\", \"iii\"])\n",
    "\n",
    "print(df[\"abc\"][\"ii\"])"
   ]
  },
  {
   "cell_type": "code",
   "execution_count": 16,
   "id": "87ac5fec",
   "metadata": {},
   "outputs": [
    {
     "name": "stdout",
     "output_type": "stream",
     "text": [
      "    a  b  c  d\n",
      "i   1  2  3  4\n",
      "ii  5  6  7  8\n"
     ]
    }
   ],
   "source": [
    "# with list\n",
    "\n",
    "data = [[1, 2, 3, 4], [5, 6, 7, 8]] # 2D list\n",
    "\n",
    "df = pd.DataFrame(data, columns = [\"a\", \"b\", \"c\", \"d\"], index = [\"i\", \"ii\"])\n",
    "\n",
    "print(df)"
   ]
  },
  {
   "cell_type": "code",
   "execution_count": 19,
   "id": "ca20afd0",
   "metadata": {},
   "outputs": [
    {
     "name": "stdout",
     "output_type": "stream",
     "text": [
      "<class 'pandas.core.series.Series'>\n",
      "<class 'pandas.core.frame.DataFrame'>\n",
      "   1st  2nd\n",
      "0    1    1\n",
      "1    2    2\n",
      "2    3    3\n",
      "3    4    4\n",
      "4    5    5\n"
     ]
    }
   ],
   "source": [
    "# with Series\n",
    "\n",
    "lst = [1, 2, 3, 4, 5]\n",
    "data = {\n",
    "    \"1st\": pd.Series(lst),\n",
    "    \"2nd\": pd.Series(lst)\n",
    "}\n",
    "\n",
    "df = pd.DataFrame(data)\n",
    "\n",
    "print(f\"Series - {type(df[\"1st\"])}\"\n",
    "print(type(df))\n",
    "print(df)"
   ]
  },
  {
   "cell_type": "code",
   "execution_count": null,
   "id": "73fc2fa0",
   "metadata": {},
   "outputs": [],
   "source": []
  }
 ],
 "metadata": {
  "kernelspec": {
   "display_name": "Python 3 (ipykernel)",
   "language": "python",
   "name": "python3"
  },
  "language_info": {
   "codemirror_mode": {
    "name": "ipython",
    "version": 3
   },
   "file_extension": ".py",
   "mimetype": "text/x-python",
   "name": "python",
   "nbconvert_exporter": "python",
   "pygments_lexer": "ipython3",
   "version": "3.11.4"
  }
 },
 "nbformat": 4,
 "nbformat_minor": 5
}
