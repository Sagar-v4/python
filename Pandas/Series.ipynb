{
 "cells": [
  {
   "cell_type": "code",
   "execution_count": 1,
   "id": "da0dbd53",
   "metadata": {},
   "outputs": [],
   "source": [
    "import pandas as pd"
   ]
  },
  {
   "cell_type": "markdown",
   "id": "429aedfe",
   "metadata": {},
   "source": [
    "# Series\n",
    "\n",
    "    1. 1D data structure\n",
    "    2. Created with list"
   ]
  },
  {
   "cell_type": "code",
   "execution_count": 11,
   "id": "531ee359",
   "metadata": {},
   "outputs": [
    {
     "name": "stdout",
     "output_type": "stream",
     "text": [
      "Type:  <class 'pandas.core.series.Series'>\n",
      "0    1\n",
      "1    2\n",
      "2    3\n",
      "3    4\n",
      "4    5\n",
      "5    6\n",
      "dtype: int64\n"
     ]
    }
   ],
   "source": [
    "data = [1, 2, 3, 4, 5, 6] # list\n",
    "# data = {\"name\" : \"my name\", \"marks\" : [2, 3, 4]} # dict\n",
    "# data = 47\n",
    "\n",
    "series = pd.Series(data)\n",
    "\n",
    "print(\"Type: \", type(series))\n",
    "print(series)"
   ]
  },
  {
   "cell_type": "code",
   "execution_count": 8,
   "id": "21af59e9",
   "metadata": {},
   "outputs": [
    {
     "name": "stdout",
     "output_type": "stream",
     "text": [
      "a    1.0\n",
      "b    2.0\n",
      "c    3.0\n",
      "d    4.0\n",
      "e    5.0\n",
      "f    6.0\n",
      "Name: mySeries, dtype: float64\n"
     ]
    }
   ],
   "source": [
    "data = [1, 2, 3, 4, 5, 6]\n",
    "indxes = ['a', 'b', 'c', 'd', 'e', 'f']\n",
    "\n",
    "series = pd.Series(data, index = indxes, dtype = \"float\", name = \"mySeries\")\n",
    "\n",
    "print(series)"
   ]
  },
  {
   "cell_type": "code",
   "execution_count": null,
   "id": "bf9a6cfb",
   "metadata": {},
   "outputs": [],
   "source": []
  }
 ],
 "metadata": {
  "kernelspec": {
   "display_name": "Python 3 (ipykernel)",
   "language": "python",
   "name": "python3"
  },
  "language_info": {
   "codemirror_mode": {
    "name": "ipython",
    "version": 3
   },
   "file_extension": ".py",
   "mimetype": "text/x-python",
   "name": "python",
   "nbconvert_exporter": "python",
   "pygments_lexer": "ipython3",
   "version": "3.11.4"
  }
 },
 "nbformat": 4,
 "nbformat_minor": 5
}
